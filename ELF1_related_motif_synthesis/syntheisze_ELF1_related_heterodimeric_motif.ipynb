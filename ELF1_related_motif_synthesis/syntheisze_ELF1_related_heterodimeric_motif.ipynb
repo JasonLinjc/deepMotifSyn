{
 "cells": [
  {
   "cell_type": "code",
   "execution_count": 33,
   "metadata": {},
   "outputs": [],
   "source": [
    "import pandas as pd\n",
    "import numpy as np\n",
    "import pickle as pkl\n",
    "import matplotlib.pyplot as plt\n",
    "import glob\n",
    "import seaborn as sns\n",
    "import tqdm\n",
    "import re\n",
    "from sklearn import metrics\n",
    "import logomaker\n",
    "from sklearn.metrics import PrecisionRecallDisplay, RocCurveDisplay\n",
    "import seqlogo\n",
    "import scipy\n",
    "import re\n",
    "from matplotlib import gridspec\n",
    "import scipy\n",
    "import xgboost\n",
    "from sklearn.metrics import auc, average_precision_score\n",
    "from collections import OrderedDict\n",
    "import torch.nn as nn\n",
    "import torch\n",
    "import joblib\n",
    "import torch.nn.functional as F\n",
    "import torch.optim as optim\n",
    "import os\n",
    "from joblib import Parallel, delayed\n",
    "%matplotlib notebook"
   ]
  },
  {
   "cell_type": "code",
   "execution_count": 34,
   "metadata": {},
   "outputs": [],
   "source": [
    "torch.manual_seed(666)\n",
    "torch.set_deterministic(True)\n",
    "np.random.seed(666)"
   ]
  },
  {
   "cell_type": "code",
   "execution_count": 3,
   "metadata": {},
   "outputs": [],
   "source": [
    "# DeepMotifSyn generator\n",
    "class deeper_u_net(nn.Module):\n",
    "    def __init__(self,device='cuda'):\n",
    "        super(deeper_u_net, self).__init__()\n",
    "        self.device = device\n",
    "        self.encoder1 = nn.Sequential(\n",
    "            nn.Conv1d(in_channels = 108, out_channels = 64, kernel_size = 4, stride = 1),\n",
    "            nn.BatchNorm1d(64),\n",
    "            nn.ReLU(),\n",
    "        )\n",
    "        self.encoder2 = nn.Sequential(\n",
    "            nn.Conv1d(in_channels=64, out_channels=128, kernel_size = 2, stride = 1),\n",
    "            nn.BatchNorm1d(128),\n",
    "            nn.ReLU(),\n",
    "        )\n",
    "        \n",
    "        self.decoder1 = nn.Sequential(\n",
    "            nn.ConvTranspose1d(in_channels = 128, out_channels = 64, kernel_size = 2, stride = 1),\n",
    "            nn.BatchNorm1d(64),\n",
    "            nn.ReLU(),\n",
    "        )\n",
    "        \n",
    "        self.decoder2 = nn.Sequential(\n",
    "            nn.ConvTranspose1d(in_channels=64*2, out_channels=64, kernel_size = 4, stride = 1),\n",
    "            nn.BatchNorm1d(64),\n",
    "            nn.ReLU(),\n",
    "        )\n",
    "        \n",
    "        self.bottleneck = torch.nn.Sequential(\n",
    "                            torch.nn.Conv1d(kernel_size=3, in_channels=128, out_channels=256, stride=1),\n",
    "                            torch.nn.ReLU(),\n",
    "                            torch.nn.BatchNorm1d(256),\n",
    "                            torch.nn.Conv1d(kernel_size=1, in_channels=256, out_channels=256, stride=1),\n",
    "                            torch.nn.ReLU(),\n",
    "                            torch.nn.BatchNorm1d(256),\n",
    "                            torch.nn.ConvTranspose1d(in_channels=256, out_channels=128, kernel_size=3, stride=1)\n",
    "                            )\n",
    "        \n",
    "        self.cnn_out = nn.Sequential(\n",
    "            nn.Conv1d(in_channels=64+8, out_channels=32, kernel_size=1),\n",
    "            nn.BatchNorm1d(32),\n",
    "            nn.ReLU(),\n",
    "            nn.Conv1d(in_channels=32, out_channels=16, kernel_size=1),\n",
    "            nn.BatchNorm1d(16),\n",
    "            nn.ReLU(),\n",
    "            nn.Conv1d(in_channels=16, out_channels=4, kernel_size=1),\n",
    "            nn.BatchNorm1d(4),\n",
    "            nn.Softmax(dim=1)\n",
    "        )\n",
    "        \n",
    "    def forward(self,x):\n",
    "        seq_x = x[:,:,:8]\n",
    "        x = x.permute(0, 2, 1)\n",
    "        \n",
    "        en1 = self.encoder1(x)\n",
    "        en2 = self.encoder2(en1)\n",
    "        x = self.bottleneck(en2)\n",
    "\n",
    "        x = self.decoder1(x)\n",
    "        x = self.decoder2(torch.cat((x, en1), 1))\n",
    "        \n",
    "        seq_x = seq_x.permute(0 ,2, 1)\n",
    "\n",
    "        x = torch.cat((x, seq_x), 1)\n",
    "        out = self.cnn_out(x)\n",
    "        return out"
   ]
  },
  {
   "cell_type": "code",
   "execution_count": 12,
   "metadata": {},
   "outputs": [],
   "source": [
    "def get_rev_com_y(seq_mat):\n",
    "    reversed_mat = seq_mat[::-1].copy()\n",
    "    for i in range(len(reversed_mat)):\n",
    "        reversed_mat[i] = np.concatenate((reversed_mat[i][:4][::-1], reversed_mat[i][4:]))\n",
    "    return reversed_mat\n",
    "\n",
    "def get_possible_motifpair(name, motif1, motif2, max_mp_len = 35):\n",
    "    generative_mp_info = []\n",
    "    possible_mp_code = []\n",
    "    # max_mp_len = 35\n",
    "    \n",
    "    for case_i in range(1, 5):\n",
    "        if case_i == 1:\n",
    "            m1 = motif1.copy()\n",
    "            m2 = motif2.copy()\n",
    "        elif case_i == 2:\n",
    "            m1 = motif2.copy()\n",
    "            m2 = motif1.copy()\n",
    "        elif case_i == 3:\n",
    "            m1 = get_rev_com_y(motif2).copy()\n",
    "            m2 = motif1.copy()\n",
    "        else:\n",
    "            m1 = motif1.copy()\n",
    "            m2 = get_rev_com_y(motif2).copy()\n",
    "        m1_len = len(m1)\n",
    "        m2_len = len(m2)\n",
    "        overlap_len=None\n",
    "        for m1_si in range(max_mp_len):\n",
    "            m1_ei = m1_si + m1_len\n",
    "            if m1_ei >= max_mp_len:\n",
    "                continue\n",
    "            for m2_si in range(m1_si, max_mp_len):\n",
    "                m2_ei = m2_si + m2_len\n",
    "                if m2_ei >= max_mp_len:\n",
    "                    continue\n",
    "                m1_code = np.zeros((35, 4))\n",
    "                m2_code = np.zeros((35, 4))\n",
    "                m1_code[m1_si:m1_ei] = m1\n",
    "                m2_code[m2_si:m2_ei] = m2\n",
    "                mp_code = np.concatenate([m1_code, m2_code], axis=-1)\n",
    "                \n",
    "                if m2_si >= m1_ei:\n",
    "                    overlap_len = -(m2_si - m1_ei)\n",
    "                else:\n",
    "                    overlap_len = sum(mp_code.sum(-1) > 1.1)\n",
    "        \n",
    "                possible_mp_code.append(mp_code)\n",
    "                #print(case_i, overlap_len)\n",
    "                generative_mp_info.append([case_i, overlap_len, m1_si, m2_si])\n",
    "    generative_mp_info = np.array(generative_mp_info)\n",
    "    df = pd.DataFrame(columns=['dimer_name', 'orientation_case', 'overlapping_len', 'm1_start_idx', 'm2_start_idx'])\n",
    "    df['dimer_name']  = [name] * len(generative_mp_info)\n",
    "    df['orientation_case'] = generative_mp_info[:, 0]\n",
    "    df['overlapping_len'] = generative_mp_info[:, 1]\n",
    "    df['m1_start_idx'] = generative_mp_info[:, 2]\n",
    "    df['m2_start_idx'] = generative_mp_info[:, 3]\n",
    "    return df, np.array(possible_mp_code)"
   ]
  },
  {
   "cell_type": "code",
   "execution_count": 14,
   "metadata": {},
   "outputs": [],
   "source": [
    "def get_icDimer(dimer):\n",
    "    cpm = seqlogo.CompletePm(pfm =(np.round(dimer.T, 6)*1e6).astype(int))\n",
    "    cpm_ic = np.repeat(np.expand_dims(cpm.ic.to_numpy(), axis=1),4, axis=1)\n",
    "    # print(cpm_ic.shape, dimer.shape)\n",
    "    return cpm_ic*dimer, cpm.ic.to_numpy()\n",
    "\n",
    "def build_784features(possible_mp_df, possible_mp_code, dimerFam):\n",
    "    # def build_features\n",
    "    overlap_len_dict = {}\n",
    "    onehot_idx = 0\n",
    "    for i in range(-20, 21):\n",
    "        overlap_len_dict[i] = onehot_idx\n",
    "        onehot_idx+=1\n",
    "\n",
    "    def encode_aligned_features(olen, case):\n",
    "        case_code = np.zeros(4)\n",
    "        olen_code = np.zeros(41)\n",
    "        case_code[case-1] += 1\n",
    "        olen_code[overlap_len_dict[olen]] += 1\n",
    "        return case_code, olen_code\n",
    "    \n",
    "    possible_mp_784feaures = []\n",
    "    for idx, row in tqdm.tqdm(possible_mp_df.iterrows()):\n",
    "        # dimer_idx = row['generated_mp_idx']\n",
    "        # print(idx)\n",
    "        ol_len = row['overlapping_len']\n",
    "        motif1 = possible_mp_code[idx, :, :4].copy()\n",
    "        motif2 = possible_mp_code[idx, :, 4:8].copy()\n",
    "        for i, b in enumerate(motif1):\n",
    "            if sum(b) < 0.3:\n",
    "                motif1[i] = np.array([0.25, 0.25, 0.25, 0.25])\n",
    "        for i, b in enumerate(motif2):\n",
    "            if sum(b) < 0.3:\n",
    "                motif2[i] = np.array([0.25, 0.25, 0.25, 0.25])\n",
    "\n",
    "        overlapping_position = np.zeros(35)\n",
    "        motif1_ic, ic1 = get_icDimer(motif1)\n",
    "        motif2_ic, ic2 = get_icDimer(motif2)\n",
    "        overlap_locus = np.logical_and(motif2_ic.sum(-1)>10e-7,motif1_ic.sum(-1)>10e-7)\n",
    "        overlap_len = sum(overlap_locus)\n",
    "\n",
    "        motif1_ol = np.zeros((18, 4))-1\n",
    "        mp_ol_diff = np.zeros((18))-1\n",
    "        motif2_ol = np.zeros((18, 4))-1 \n",
    "        mp_ol_sum = np.zeros((18, 4))-1\n",
    "        motif1_ol_ic = np.zeros(18) - 1\n",
    "        motif2_ol_ic = np.zeros(18) - 1\n",
    "        mp_ic_diff = np.zeros(18) - 1\n",
    "\n",
    "        if overlap_len > 0:\n",
    "            # overlap_seq_withIC\n",
    "            #  print(motif1_ic.shape)\n",
    "            motif1_ol[:overlap_len] = motif1_ic[overlap_locus]\n",
    "            motif2_ol[:overlap_len] = motif2_ic[overlap_locus]\n",
    "            # euclidean distance of seq with IC\n",
    "            mp_ol_diff[:overlap_len] = np.sqrt(((motif1_ic[overlap_locus] - motif2_ic[overlap_locus])**2).sum(-1))\n",
    "            # overlap_seq_sum\n",
    "            mp_ol_sum[:overlap_len] = motif1_ic[overlap_locus] + motif2_ic[overlap_locus]\n",
    "            # overlap ic and its mse\n",
    "            motif1_ol_ic[:overlap_len] = ic1[overlap_locus]\n",
    "            motif2_ol_ic[:overlap_len] = ic2[overlap_locus]\n",
    "            mp_ic_diff[:overlap_len] = np.sqrt((ic1[overlap_locus] - ic2[overlap_locus])**2)\n",
    "            # AGCT stats\n",
    "            motif1_overlap_base = motif1_ic[overlap_locus,:].sum(0)\n",
    "            motif2_overlap_base = motif2_ic[overlap_locus,:].sum(0)\n",
    "\n",
    "        overlap_feats = np.concatenate([motif1_ol.flatten(), motif2_ol.flatten(), motif1_ol_ic, motif1_ol_ic, mp_ol_diff.flatten(), mp_ol_sum.flatten(), mp_ic_diff, motif2_overlap_base.flatten(), motif1_overlap_base.flatten()])\n",
    "        seq_feats = np.concatenate([motif1_ic.flatten(), motif2_ic.flatten(), ic1.flatten(), ic2.flatten()])\n",
    "        feats = np.concatenate([overlap_feats, seq_feats])\n",
    "        \n",
    "        dname = row['dimer_name']\n",
    "        # dimerFam = dnameToFamily_dict[dname]\n",
    "        ol_len = row['overlapping_len']\n",
    "\n",
    "        case_fam, olen_fam, _, _= dimer_familly_mpCase_dict[dimerFam]\n",
    "        case_gmp, olen_gmp = encode_aligned_features(row['overlapping_len'], row['orientation_case'])\n",
    "        case_mul, olen_mul = case_fam*case_gmp, olen_fam*olen_gmp\n",
    "        mul_sum = [sum(case_mul), sum(olen_mul)]\n",
    "        total_sum = [sum(mul_sum)]\n",
    "\n",
    "        generative_seq_ic, _ = get_icDimer(pred_dimer[idx].T)\n",
    "        generative_seq_ic = generative_seq_ic.flatten()\n",
    "        feat_784 = np.concatenate([feats, case_fam, olen_fam, case_gmp, olen_gmp, case_mul, olen_mul, mul_sum, total_sum])\n",
    "        possible_mp_784feaures.append(feat_784)\n",
    "\n",
    "    return np.array(possible_mp_784feaures)"
   ]
  },
  {
   "cell_type": "code",
   "execution_count": 4,
   "metadata": {},
   "outputs": [],
   "source": [
    "dnameToFamily_dict = pkl.load(open(\"../data/dimer_name_family_upper_dict.pkl\", \"rb\"))\n",
    "family_onehot_encode = pkl.load(open(\"../data/kc_heterodimer_family_all614dimers_upper_oneHotDict.pkl\", \"rb\"))\n",
    "dimer_familly_mpCase_dict = pkl.load(open(\"../data/dimerMotif_87family_feaures_dict.pkl\", \"rb\"))\n",
    "kc_dimer_info = pd.read_csv(\"../data/kc_dimer_info.csv\")\n",
    "# homomotif_seq_dict = pkl.load(open(\"../data/homodimerMotifDatabase_dict.pkl\", \"rb\"))\n",
    "# motif_seq_dict = pkl.load(open(\"../data/motifDatabase_dict.pkl\", \"rb\"))\n",
    "dimer_seq_dict = pkl.load(open(\"../data/dimerMotifDatabase_dict.pkl\", \"rb\"))\n",
    "dimerfamily_dict = pkl.load(open(\"../data/dimerMotifFamily_dict.pkl\", \"rb\"))\n",
    "# monomeric motif PPM\n",
    "monomeric_PPM_dict = pkl.load(open(\"../data/MonomericMotif_PPM_dict.pkl\", \"rb\"))"
   ]
  },
  {
   "cell_type": "markdown",
   "metadata": {},
   "source": [
    "# Load motif generator and evaluator"
   ]
  },
  {
   "cell_type": "code",
   "execution_count": 5,
   "metadata": {},
   "outputs": [
    {
     "data": {
      "text/plain": [
       "<All keys matched successfully>"
      ]
     },
     "execution_count": 5,
     "metadata": {},
     "output_type": "execute_result"
    }
   ],
   "source": [
    "net = deeper_u_net().cuda()\n",
    "net.eval()\n",
    "checkpoint = torch.load('../model/deeper_uNet_200epochs.checkpoint')\n",
    "net.load_state_dict(checkpoint['model_state_dict'])"
   ]
  },
  {
   "cell_type": "code",
   "execution_count": 6,
   "metadata": {},
   "outputs": [],
   "source": [
    "xgboost_evaluator = joblib.load(\"../model/XGBoost_nobalanced_bestHyper_924features.joblib\")"
   ]
  },
  {
   "cell_type": "markdown",
   "metadata": {},
   "source": [
    "# Load ELF1-ralated monomeric motif pair"
   ]
  },
  {
   "cell_type": "code",
   "execution_count": 38,
   "metadata": {},
   "outputs": [],
   "source": [
    "elf1_df = pd.read_csv(\"./ELF1_related_motifpair.csv\")"
   ]
  },
  {
   "cell_type": "code",
   "execution_count": 39,
   "metadata": {},
   "outputs": [],
   "source": [
    "motif_list, family_list = elf1_df['monomeric pair'], elf1_df['family']"
   ]
  },
  {
   "cell_type": "code",
   "execution_count": 15,
   "metadata": {
    "scrolled": true
   },
   "outputs": [
    {
     "name": "stderr",
     "output_type": "stream",
     "text": [
      "816it [00:09, 88.41it/s]\n",
      "0it [00:00, ?it/s]"
     ]
    },
    {
     "name": "stdout",
     "output_type": "stream",
     "text": [
      "E2F3_ELF1 NumOfCandidates 816\n"
     ]
    },
    {
     "name": "stderr",
     "output_type": "stream",
     "text": [
      "1196it [00:13, 88.37it/s]\n",
      "0it [00:00, ?it/s]"
     ]
    },
    {
     "name": "stdout",
     "output_type": "stream",
     "text": [
      "GCM2_ELF1 NumOfCandidates 1196\n"
     ]
    },
    {
     "name": "stderr",
     "output_type": "stream",
     "text": [
      "960it [00:10, 89.15it/s]\n",
      "0it [00:00, ?it/s]"
     ]
    },
    {
     "name": "stdout",
     "output_type": "stream",
     "text": [
      "RFX3_ELF1 NumOfCandidates 960\n"
     ]
    },
    {
     "name": "stderr",
     "output_type": "stream",
     "text": [
      "1196it [00:13, 88.27it/s]\n",
      "0it [00:00, ?it/s]"
     ]
    },
    {
     "name": "stdout",
     "output_type": "stream",
     "text": [
      "ELK1_ELF1 NumOfCandidates 1196\n"
     ]
    },
    {
     "name": "stderr",
     "output_type": "stream",
     "text": [
      "1150it [00:13, 88.19it/s]\n",
      "0it [00:00, ?it/s]"
     ]
    },
    {
     "name": "stdout",
     "output_type": "stream",
     "text": [
      "ETV7_ELF1 NumOfCandidates 1150\n"
     ]
    },
    {
     "name": "stderr",
     "output_type": "stream",
     "text": [
      "1196it [00:13, 88.11it/s]\n",
      "0it [00:00, ?it/s]"
     ]
    },
    {
     "name": "stdout",
     "output_type": "stream",
     "text": [
      "ARNTL_ELF1 NumOfCandidates 1196\n"
     ]
    },
    {
     "name": "stderr",
     "output_type": "stream",
     "text": [
      "1196it [00:13, 88.76it/s]\n",
      "0it [00:00, ?it/s]"
     ]
    },
    {
     "name": "stdout",
     "output_type": "stream",
     "text": [
      "ERF_ELF1 NumOfCandidates 1196\n"
     ]
    },
    {
     "name": "stderr",
     "output_type": "stream",
     "text": [
      "1008it [00:11, 89.28it/s]\n",
      "0it [00:00, ?it/s]"
     ]
    },
    {
     "name": "stdout",
     "output_type": "stream",
     "text": [
      "CREB3L1_ELF1 NumOfCandidates 1008\n"
     ]
    },
    {
     "name": "stderr",
     "output_type": "stream",
     "text": [
      "1196it [00:13, 87.24it/s]\n",
      "0it [00:00, ?it/s]"
     ]
    },
    {
     "name": "stdout",
     "output_type": "stream",
     "text": [
      "TFAP4_ELF1 NumOfCandidates 1196\n"
     ]
    },
    {
     "name": "stderr",
     "output_type": "stream",
     "text": [
      "1196it [00:13, 87.29it/s]\n",
      "0it [00:00, ?it/s]"
     ]
    },
    {
     "name": "stdout",
     "output_type": "stream",
     "text": [
      "ETV5_ELF1 NumOfCandidates 1196\n"
     ]
    },
    {
     "name": "stderr",
     "output_type": "stream",
     "text": [
      "1008it [00:11, 88.56it/s]\n",
      "0it [00:00, ?it/s]"
     ]
    },
    {
     "name": "stdout",
     "output_type": "stream",
     "text": [
      "FLI1_ELF1 NumOfCandidates 1008\n"
     ]
    },
    {
     "name": "stderr",
     "output_type": "stream",
     "text": [
      "1150it [00:12, 92.72it/s]\n",
      "0it [00:00, ?it/s]"
     ]
    },
    {
     "name": "stdout",
     "output_type": "stream",
     "text": [
      "ETV2_ELF1 NumOfCandidates 1150\n"
     ]
    },
    {
     "name": "stderr",
     "output_type": "stream",
     "text": [
      "1056it [00:11, 94.82it/s]\n",
      "0it [00:00, ?it/s]"
     ]
    },
    {
     "name": "stdout",
     "output_type": "stream",
     "text": [
      "ALX4_ELF1 NumOfCandidates 1056\n"
     ]
    },
    {
     "name": "stderr",
     "output_type": "stream",
     "text": [
      "1196it [00:12, 93.23it/s]\n",
      "0it [00:00, ?it/s]"
     ]
    },
    {
     "name": "stdout",
     "output_type": "stream",
     "text": [
      "HOXA3_ELF1 NumOfCandidates 1196\n"
     ]
    },
    {
     "name": "stderr",
     "output_type": "stream",
     "text": [
      "1196it [00:12, 93.42it/s]\n",
      "0it [00:00, ?it/s]"
     ]
    },
    {
     "name": "stdout",
     "output_type": "stream",
     "text": [
      "EVX1_ELF1 NumOfCandidates 1196\n"
     ]
    },
    {
     "name": "stderr",
     "output_type": "stream",
     "text": [
      "1242it [00:12, 95.58it/s]\n",
      "0it [00:00, ?it/s]"
     ]
    },
    {
     "name": "stdout",
     "output_type": "stream",
     "text": [
      "HOXD12_ELF1 NumOfCandidates 1242\n"
     ]
    },
    {
     "name": "stderr",
     "output_type": "stream",
     "text": [
      "1150it [00:12, 94.31it/s]\n",
      "0it [00:00, ?it/s]"
     ]
    },
    {
     "name": "stdout",
     "output_type": "stream",
     "text": [
      "HOXB13_ELF1 NumOfCandidates 1150\n"
     ]
    },
    {
     "name": "stderr",
     "output_type": "stream",
     "text": [
      "1288it [00:13, 94.51it/s]\n",
      "0it [00:00, ?it/s]"
     ]
    },
    {
     "name": "stdout",
     "output_type": "stream",
     "text": [
      "PITX1_ELF1 NumOfCandidates 1288\n"
     ]
    },
    {
     "name": "stderr",
     "output_type": "stream",
     "text": [
      "1196it [00:12, 95.61it/s]\n"
     ]
    },
    {
     "name": "stdout",
     "output_type": "stream",
     "text": [
      "HOXC10_ELF1 NumOfCandidates 1196\n"
     ]
    }
   ],
   "source": [
    "mp_name_list = []\n",
    "synthesized_motifs = []\n",
    "motif_dfs = []\n",
    "input_motifpairs = []\n",
    "for i in range(len(motif_list)):\n",
    "    \n",
    "    m1, m2 = motif_list[i].split(\"_\")\n",
    "    # print(m1, m2)\n",
    "    if True:\n",
    "        m1_ppm = monomeric_PPM_dict[m1]\n",
    "        m2_ppm = monomeric_PPM_dict[m2]\n",
    "        fcode = family_onehot_encode[family_list[i]][np.newaxis, :]\n",
    "        possible_mp_df, possible_mp_code = get_possible_motifpair(motif_list[i], m1_ppm, m2_ppm)\n",
    "        fcode = np.repeat(fcode, 35, axis=1)\n",
    "        fcode = np.repeat(fcode, len(possible_mp_code), axis=0)\n",
    "        possible_mp_code_witFAM = np.concatenate([possible_mp_code, fcode], axis=-1)\n",
    "        # print(possible_mp_code_witFAM.shape)\n",
    "        with torch.no_grad():\n",
    "            X_input = torch.from_numpy(possible_mp_code_witFAM).cuda().float()\n",
    "            pred_dimer = net(X_input).cpu().detach().numpy()\n",
    "        # print(fcode.shape, possible_mp_code.shape, pred_dimer.shape)\n",
    "        possible_mp_784feaures = build_784features(possible_mp_df, possible_mp_code, family_list[i])\n",
    "        possible_mp_924feaures = np.concatenate([possible_mp_784feaures, pred_dimer.reshape(len(pred_dimer), -1)], axis=-1)\n",
    "        possible_mp_score = xgboost_evaluator.predict_proba(possible_mp_924feaures)\n",
    "        possible_mp_df['score'] = possible_mp_score[:, 1]\n",
    "        mp_name_list.append(motif_list[i])\n",
    "        input_motifpairs.append(possible_mp_code)\n",
    "        synthesized_motifs.append(pred_dimer)\n",
    "        motif_dfs.append(possible_mp_df)\n",
    "        print(motif_list[i], 'NumOfCandidates', len(possible_mp_df))\n",
    "#     except:\n",
    "#         print(i, m1, m2, 'motif no found!')"
   ]
  },
  {
   "cell_type": "markdown",
   "metadata": {},
   "source": [
    "# Collect Top5 heterodimeric motif candidates with a score higher than 0.1"
   ]
  },
  {
   "cell_type": "code",
   "execution_count": 35,
   "metadata": {
    "scrolled": true
   },
   "outputs": [
    {
     "name": "stdout",
     "output_type": "stream",
     "text": [
      "E2F3_ELF1 3\n",
      "GCM2_ELF1 2\n",
      "RFX3_ELF1 5\n",
      "ELK1_ELF1 4\n",
      "ETV7_ELF1 5\n",
      "ARNTL_ELF1 4\n",
      "ERF_ELF1 4\n",
      "CREB3L1_ELF1 1\n",
      "TFAP4_ELF1 3\n",
      "ETV5_ELF1 4\n",
      "FLI1_ELF1 3\n",
      "ETV2_ELF1 4\n",
      "ALX4_ELF1 1\n",
      "HOXA3_ELF1 2\n",
      "EVX1_ELF1 4\n",
      "HOXD12_ELF1 1\n",
      "HOXB13_ELF1 1\n",
      "PITX1_ELF1 2\n",
      "HOXC10_ELF1 1\n"
     ]
    }
   ],
   "source": [
    "syntheiszed_motif_dict = {}\n",
    "for i in range(len(motif_dfs)):\n",
    "    tdf = motif_dfs[i]\n",
    "    tdf = tdf[tdf['score'] > 0.1]\n",
    "    tdf = tdf.sort_values(by='score', ascending=False).iloc[:5]\n",
    "    selex_idx = list(tdf.index)\n",
    "    mp_code = input_motifpairs[i]\n",
    "    heterdimers = synthesized_motifs[i]\n",
    "    good_motif =[]\n",
    "    for sidx in selex_idx:\n",
    "        trimed_motif = heterdimers[sidx][:, mp_code[sidx].sum(-1)>0]\n",
    "        # print(trimed_motif.shape)\n",
    "        good_motif.append(trimed_motif.T)\n",
    "    print(mp_name_list[i], len(good_motif))\n",
    "    syntheiszed_motif_dict[mp_name_list[i]] = good_motif"
   ]
  },
  {
   "cell_type": "markdown",
   "metadata": {},
   "source": [
    "# Convert the selected motif to MEME format for FIMO "
   ]
  },
  {
   "cell_type": "code",
   "execution_count": 17,
   "metadata": {},
   "outputs": [],
   "source": [
    "meme_format_folder = \"./ELF1_related_meme_format\"\n",
    "if not os.path.exists(meme_format_folder):\n",
    "    os.mkdir(meme_format_folder)\n",
    "    \n",
    "for mp_name in syntheiszed_motif_dict.keys():\n",
    "    for i in range(len(syntheiszed_motif_dict[mp_name])):\n",
    "        m = syntheiszed_motif_dict[mp_name][i]\n",
    "        name = 'MEME version 4\\n\\nALPHABET= ACGT\\n\\nstrands: + -\\n\\nBackground letter frequencies (from unknown source):\\nA 0.250 C 0.250 G 0.250 T 0.250\\n\\nMOTIF ' + str(i) + \" \" + mp_name + \" \\n\\n\"\n",
    "        name1 = 'letter-probability matrix: alength= 4 w= ' + str(len(m)) + ' nsites= 1 E= 0e+0\\n'\n",
    "        pfm_str = \"\"\n",
    "        for row in m:\n",
    "            for item in row:\n",
    "                pfm_str+=str(item) + \" \"\n",
    "            pfm_str += \"\\n\"\n",
    "        meme_format_motif = name+name1+pfm_str\n",
    "        with open(meme_format_folder+\"/\" + mp_name + \"_\" + str(i) + \"_motif.meme\", \"w\") as f:\n",
    "            f.write(meme_format_motif)"
   ]
  },
  {
   "cell_type": "markdown",
   "metadata": {},
   "source": [
    "# apply fimo to search motif instances across whole genome"
   ]
  },
  {
   "cell_type": "code",
   "execution_count": 20,
   "metadata": {},
   "outputs": [],
   "source": [
    "fimo_res_folder = \"./ELF1_fimo\"\n",
    "if not os.path.exists(fimo_res_folder):\n",
    "    os.mkdir(fimo_res_folder)\n",
    "fimo_cmds = []\n",
    "for meme_file in glob.glob(\"./ELF1_related_meme_format/*meme\"):\n",
    "    mp_name = re.split(\"/|_motif\", meme_file)[-2]\n",
    "    output_fold = fimo_res_folder + \"/\" + mp_name + \"_fimo\"\n",
    "    cmd = \"./meme-5.0.1/src/fimo -oc \" + output_fold + \" \" + meme_file + \" \" +\"./meme-5.3.3/db/hg19.fa\"\n",
    "    fimo_cmds.append(cmd)"
   ]
  },
  {
   "cell_type": "code",
   "execution_count": 21,
   "metadata": {},
   "outputs": [
    {
     "data": {
      "text/plain": [
       "'./meme-5.0.1/src/fimo -oc ./ELF1_fimo/ELF1_related_meme_format\\\\ALX4_ELF1_0_fimo ./ELF1_related_meme_format\\\\ALX4_ELF1_0_motif.meme ./meme-5.3.3/db/hg19.fa'"
      ]
     },
     "execution_count": 21,
     "metadata": {},
     "output_type": "execute_result"
    }
   ],
   "source": [
    "fimo_cmds[0]"
   ]
  },
  {
   "cell_type": "code",
   "execution_count": 22,
   "metadata": {},
   "outputs": [
    {
     "data": {
      "text/plain": [
       "54"
      ]
     },
     "execution_count": 22,
     "metadata": {},
     "output_type": "execute_result"
    }
   ],
   "source": [
    "len(fimo_cmds)"
   ]
  },
  {
   "cell_type": "code",
   "execution_count": 24,
   "metadata": {},
   "outputs": [],
   "source": [
    "elf1_fimo_files = glob.glob(\"./ELF1_fimo/*/fimo.tsv\")"
   ]
  },
  {
   "cell_type": "code",
   "execution_count": 27,
   "metadata": {
    "collapsed": true
   },
   "outputs": [
    {
     "name": "stdout",
     "output_type": "stream",
     "text": [
      "./ELF1_fimo\\ALX4_ELF1_0_fimo\\fimo.tsv\n",
      "./ELF1_fimo\\ARNTL_ELF1_0_fimo\\fimo.tsv\n"
     ]
    },
    {
     "name": "stderr",
     "output_type": "stream",
     "text": [
      "C:\\Users\\jieconlin3\\Anaconda3\\envs\\motif_synthesis_py37\\lib\\site-packages\\IPython\\core\\interactiveshell.py:3147: DtypeWarning: Columns (0) have mixed types.Specify dtype option on import or set low_memory=False.\n",
      "  interactivity=interactivity, compiler=compiler, result=result)\n"
     ]
    },
    {
     "name": "stdout",
     "output_type": "stream",
     "text": [
      "./ELF1_fimo\\ARNTL_ELF1_1_fimo\\fimo.tsv\n"
     ]
    },
    {
     "name": "stderr",
     "output_type": "stream",
     "text": [
      "C:\\Users\\jieconlin3\\Anaconda3\\envs\\motif_synthesis_py37\\lib\\site-packages\\IPython\\core\\interactiveshell.py:3147: DtypeWarning: Columns (0) have mixed types.Specify dtype option on import or set low_memory=False.\n",
      "  interactivity=interactivity, compiler=compiler, result=result)\n"
     ]
    },
    {
     "name": "stdout",
     "output_type": "stream",
     "text": [
      "./ELF1_fimo\\ARNTL_ELF1_2_fimo\\fimo.tsv\n"
     ]
    },
    {
     "name": "stderr",
     "output_type": "stream",
     "text": [
      "C:\\Users\\jieconlin3\\Anaconda3\\envs\\motif_synthesis_py37\\lib\\site-packages\\IPython\\core\\interactiveshell.py:3147: DtypeWarning: Columns (0) have mixed types.Specify dtype option on import or set low_memory=False.\n",
      "  interactivity=interactivity, compiler=compiler, result=result)\n"
     ]
    },
    {
     "name": "stdout",
     "output_type": "stream",
     "text": [
      "./ELF1_fimo\\ARNTL_ELF1_3_fimo\\fimo.tsv\n",
      "./ELF1_fimo\\CREB3L1_ELF1_0_fimo\\fimo.tsv\n",
      "./ELF1_fimo\\E2F3_ELF1_0_fimo\\fimo.tsv\n"
     ]
    },
    {
     "name": "stderr",
     "output_type": "stream",
     "text": [
      "C:\\Users\\jieconlin3\\Anaconda3\\envs\\motif_synthesis_py37\\lib\\site-packages\\IPython\\core\\interactiveshell.py:3147: DtypeWarning: Columns (0) have mixed types.Specify dtype option on import or set low_memory=False.\n",
      "  interactivity=interactivity, compiler=compiler, result=result)\n"
     ]
    },
    {
     "name": "stdout",
     "output_type": "stream",
     "text": [
      "./ELF1_fimo\\E2F3_ELF1_1_fimo\\fimo.tsv\n",
      "./ELF1_fimo\\E2F3_ELF1_2_fimo\\fimo.tsv\n",
      "./ELF1_fimo\\ELK1_ELF1_0_fimo\\fimo.tsv\n"
     ]
    },
    {
     "name": "stderr",
     "output_type": "stream",
     "text": [
      "C:\\Users\\jieconlin3\\Anaconda3\\envs\\motif_synthesis_py37\\lib\\site-packages\\IPython\\core\\interactiveshell.py:3147: DtypeWarning: Columns (0) have mixed types.Specify dtype option on import or set low_memory=False.\n",
      "  interactivity=interactivity, compiler=compiler, result=result)\n"
     ]
    },
    {
     "name": "stdout",
     "output_type": "stream",
     "text": [
      "./ELF1_fimo\\ELK1_ELF1_1_fimo\\fimo.tsv\n"
     ]
    },
    {
     "name": "stderr",
     "output_type": "stream",
     "text": [
      "C:\\Users\\jieconlin3\\Anaconda3\\envs\\motif_synthesis_py37\\lib\\site-packages\\IPython\\core\\interactiveshell.py:3147: DtypeWarning: Columns (0) have mixed types.Specify dtype option on import or set low_memory=False.\n",
      "  interactivity=interactivity, compiler=compiler, result=result)\n"
     ]
    },
    {
     "name": "stdout",
     "output_type": "stream",
     "text": [
      "./ELF1_fimo\\ELK1_ELF1_2_fimo\\fimo.tsv\n"
     ]
    },
    {
     "name": "stderr",
     "output_type": "stream",
     "text": [
      "C:\\Users\\jieconlin3\\Anaconda3\\envs\\motif_synthesis_py37\\lib\\site-packages\\IPython\\core\\interactiveshell.py:3147: DtypeWarning: Columns (0) have mixed types.Specify dtype option on import or set low_memory=False.\n",
      "  interactivity=interactivity, compiler=compiler, result=result)\n"
     ]
    },
    {
     "name": "stdout",
     "output_type": "stream",
     "text": [
      "./ELF1_fimo\\ELK1_ELF1_3_fimo\\fimo.tsv\n"
     ]
    },
    {
     "name": "stderr",
     "output_type": "stream",
     "text": [
      "C:\\Users\\jieconlin3\\Anaconda3\\envs\\motif_synthesis_py37\\lib\\site-packages\\IPython\\core\\interactiveshell.py:3147: DtypeWarning: Columns (0) have mixed types.Specify dtype option on import or set low_memory=False.\n",
      "  interactivity=interactivity, compiler=compiler, result=result)\n"
     ]
    },
    {
     "name": "stdout",
     "output_type": "stream",
     "text": [
      "./ELF1_fimo\\ERF_ELF1_0_fimo\\fimo.tsv\n"
     ]
    },
    {
     "name": "stderr",
     "output_type": "stream",
     "text": [
      "C:\\Users\\jieconlin3\\Anaconda3\\envs\\motif_synthesis_py37\\lib\\site-packages\\IPython\\core\\interactiveshell.py:3147: DtypeWarning: Columns (0) have mixed types.Specify dtype option on import or set low_memory=False.\n",
      "  interactivity=interactivity, compiler=compiler, result=result)\n"
     ]
    },
    {
     "name": "stdout",
     "output_type": "stream",
     "text": [
      "./ELF1_fimo\\ERF_ELF1_1_fimo\\fimo.tsv\n"
     ]
    },
    {
     "name": "stderr",
     "output_type": "stream",
     "text": [
      "C:\\Users\\jieconlin3\\Anaconda3\\envs\\motif_synthesis_py37\\lib\\site-packages\\IPython\\core\\interactiveshell.py:3147: DtypeWarning: Columns (0) have mixed types.Specify dtype option on import or set low_memory=False.\n",
      "  interactivity=interactivity, compiler=compiler, result=result)\n"
     ]
    },
    {
     "name": "stdout",
     "output_type": "stream",
     "text": [
      "./ELF1_fimo\\ERF_ELF1_2_fimo\\fimo.tsv\n"
     ]
    },
    {
     "name": "stderr",
     "output_type": "stream",
     "text": [
      "C:\\Users\\jieconlin3\\Anaconda3\\envs\\motif_synthesis_py37\\lib\\site-packages\\IPython\\core\\interactiveshell.py:3147: DtypeWarning: Columns (0) have mixed types.Specify dtype option on import or set low_memory=False.\n",
      "  interactivity=interactivity, compiler=compiler, result=result)\n"
     ]
    },
    {
     "name": "stdout",
     "output_type": "stream",
     "text": [
      "./ELF1_fimo\\ERF_ELF1_3_fimo\\fimo.tsv\n"
     ]
    },
    {
     "name": "stderr",
     "output_type": "stream",
     "text": [
      "C:\\Users\\jieconlin3\\Anaconda3\\envs\\motif_synthesis_py37\\lib\\site-packages\\IPython\\core\\interactiveshell.py:3147: DtypeWarning: Columns (0) have mixed types.Specify dtype option on import or set low_memory=False.\n",
      "  interactivity=interactivity, compiler=compiler, result=result)\n"
     ]
    },
    {
     "name": "stdout",
     "output_type": "stream",
     "text": [
      "./ELF1_fimo\\ETV2_ELF1_0_fimo\\fimo.tsv\n",
      "./ELF1_fimo\\ETV2_ELF1_1_fimo\\fimo.tsv\n"
     ]
    },
    {
     "name": "stderr",
     "output_type": "stream",
     "text": [
      "C:\\Users\\jieconlin3\\Anaconda3\\envs\\motif_synthesis_py37\\lib\\site-packages\\IPython\\core\\interactiveshell.py:3147: DtypeWarning: Columns (0) have mixed types.Specify dtype option on import or set low_memory=False.\n",
      "  interactivity=interactivity, compiler=compiler, result=result)\n"
     ]
    },
    {
     "name": "stdout",
     "output_type": "stream",
     "text": [
      "./ELF1_fimo\\ETV2_ELF1_2_fimo\\fimo.tsv\n",
      "./ELF1_fimo\\ETV2_ELF1_3_fimo\\fimo.tsv\n"
     ]
    },
    {
     "name": "stderr",
     "output_type": "stream",
     "text": [
      "C:\\Users\\jieconlin3\\Anaconda3\\envs\\motif_synthesis_py37\\lib\\site-packages\\IPython\\core\\interactiveshell.py:3147: DtypeWarning: Columns (0) have mixed types.Specify dtype option on import or set low_memory=False.\n",
      "  interactivity=interactivity, compiler=compiler, result=result)\n"
     ]
    },
    {
     "name": "stdout",
     "output_type": "stream",
     "text": [
      "./ELF1_fimo\\ETV5_ELF1_0_fimo\\fimo.tsv\n"
     ]
    },
    {
     "name": "stderr",
     "output_type": "stream",
     "text": [
      "C:\\Users\\jieconlin3\\Anaconda3\\envs\\motif_synthesis_py37\\lib\\site-packages\\IPython\\core\\interactiveshell.py:3147: DtypeWarning: Columns (0) have mixed types.Specify dtype option on import or set low_memory=False.\n",
      "  interactivity=interactivity, compiler=compiler, result=result)\n"
     ]
    },
    {
     "name": "stdout",
     "output_type": "stream",
     "text": [
      "./ELF1_fimo\\ETV5_ELF1_1_fimo\\fimo.tsv\n"
     ]
    },
    {
     "name": "stderr",
     "output_type": "stream",
     "text": [
      "C:\\Users\\jieconlin3\\Anaconda3\\envs\\motif_synthesis_py37\\lib\\site-packages\\IPython\\core\\interactiveshell.py:3147: DtypeWarning: Columns (0) have mixed types.Specify dtype option on import or set low_memory=False.\n",
      "  interactivity=interactivity, compiler=compiler, result=result)\n"
     ]
    },
    {
     "name": "stdout",
     "output_type": "stream",
     "text": [
      "./ELF1_fimo\\ETV5_ELF1_2_fimo\\fimo.tsv\n"
     ]
    },
    {
     "name": "stderr",
     "output_type": "stream",
     "text": [
      "C:\\Users\\jieconlin3\\Anaconda3\\envs\\motif_synthesis_py37\\lib\\site-packages\\IPython\\core\\interactiveshell.py:3147: DtypeWarning: Columns (0) have mixed types.Specify dtype option on import or set low_memory=False.\n",
      "  interactivity=interactivity, compiler=compiler, result=result)\n"
     ]
    },
    {
     "name": "stdout",
     "output_type": "stream",
     "text": [
      "./ELF1_fimo\\ETV5_ELF1_3_fimo\\fimo.tsv\n"
     ]
    },
    {
     "name": "stderr",
     "output_type": "stream",
     "text": [
      "C:\\Users\\jieconlin3\\Anaconda3\\envs\\motif_synthesis_py37\\lib\\site-packages\\IPython\\core\\interactiveshell.py:3147: DtypeWarning: Columns (0) have mixed types.Specify dtype option on import or set low_memory=False.\n",
      "  interactivity=interactivity, compiler=compiler, result=result)\n"
     ]
    },
    {
     "name": "stdout",
     "output_type": "stream",
     "text": [
      "./ELF1_fimo\\ETV7_ELF1_0_fimo\\fimo.tsv\n"
     ]
    },
    {
     "name": "stderr",
     "output_type": "stream",
     "text": [
      "C:\\Users\\jieconlin3\\Anaconda3\\envs\\motif_synthesis_py37\\lib\\site-packages\\IPython\\core\\interactiveshell.py:3147: DtypeWarning: Columns (0) have mixed types.Specify dtype option on import or set low_memory=False.\n",
      "  interactivity=interactivity, compiler=compiler, result=result)\n"
     ]
    },
    {
     "name": "stdout",
     "output_type": "stream",
     "text": [
      "./ELF1_fimo\\ETV7_ELF1_1_fimo\\fimo.tsv\n",
      "./ELF1_fimo\\ETV7_ELF1_2_fimo\\fimo.tsv\n",
      "./ELF1_fimo\\ETV7_ELF1_3_fimo\\fimo.tsv\n"
     ]
    },
    {
     "name": "stderr",
     "output_type": "stream",
     "text": [
      "C:\\Users\\jieconlin3\\Anaconda3\\envs\\motif_synthesis_py37\\lib\\site-packages\\IPython\\core\\interactiveshell.py:3147: DtypeWarning: Columns (0) have mixed types.Specify dtype option on import or set low_memory=False.\n",
      "  interactivity=interactivity, compiler=compiler, result=result)\n"
     ]
    },
    {
     "name": "stdout",
     "output_type": "stream",
     "text": [
      "./ELF1_fimo\\ETV7_ELF1_4_fimo\\fimo.tsv\n"
     ]
    },
    {
     "name": "stderr",
     "output_type": "stream",
     "text": [
      "C:\\Users\\jieconlin3\\Anaconda3\\envs\\motif_synthesis_py37\\lib\\site-packages\\IPython\\core\\interactiveshell.py:3147: DtypeWarning: Columns (0) have mixed types.Specify dtype option on import or set low_memory=False.\n",
      "  interactivity=interactivity, compiler=compiler, result=result)\n"
     ]
    },
    {
     "name": "stdout",
     "output_type": "stream",
     "text": [
      "./ELF1_fimo\\EVX1_ELF1_0_fimo\\fimo.tsv\n",
      "./ELF1_fimo\\EVX1_ELF1_1_fimo\\fimo.tsv\n",
      "./ELF1_fimo\\EVX1_ELF1_2_fimo\\fimo.tsv\n"
     ]
    },
    {
     "name": "stderr",
     "output_type": "stream",
     "text": [
      "C:\\Users\\jieconlin3\\Anaconda3\\envs\\motif_synthesis_py37\\lib\\site-packages\\IPython\\core\\interactiveshell.py:3147: DtypeWarning: Columns (0) have mixed types.Specify dtype option on import or set low_memory=False.\n",
      "  interactivity=interactivity, compiler=compiler, result=result)\n"
     ]
    },
    {
     "name": "stdout",
     "output_type": "stream",
     "text": [
      "./ELF1_fimo\\EVX1_ELF1_3_fimo\\fimo.tsv\n"
     ]
    },
    {
     "name": "stderr",
     "output_type": "stream",
     "text": [
      "C:\\Users\\jieconlin3\\Anaconda3\\envs\\motif_synthesis_py37\\lib\\site-packages\\IPython\\core\\interactiveshell.py:3147: DtypeWarning: Columns (0) have mixed types.Specify dtype option on import or set low_memory=False.\n",
      "  interactivity=interactivity, compiler=compiler, result=result)\n"
     ]
    },
    {
     "name": "stdout",
     "output_type": "stream",
     "text": [
      "./ELF1_fimo\\FLI1_ELF1_0_fimo\\fimo.tsv\n"
     ]
    },
    {
     "name": "stderr",
     "output_type": "stream",
     "text": [
      "C:\\Users\\jieconlin3\\Anaconda3\\envs\\motif_synthesis_py37\\lib\\site-packages\\IPython\\core\\interactiveshell.py:3147: DtypeWarning: Columns (0) have mixed types.Specify dtype option on import or set low_memory=False.\n",
      "  interactivity=interactivity, compiler=compiler, result=result)\n"
     ]
    },
    {
     "name": "stdout",
     "output_type": "stream",
     "text": [
      "./ELF1_fimo\\FLI1_ELF1_1_fimo\\fimo.tsv\n"
     ]
    },
    {
     "name": "stderr",
     "output_type": "stream",
     "text": [
      "C:\\Users\\jieconlin3\\Anaconda3\\envs\\motif_synthesis_py37\\lib\\site-packages\\IPython\\core\\interactiveshell.py:3147: DtypeWarning: Columns (0) have mixed types.Specify dtype option on import or set low_memory=False.\n",
      "  interactivity=interactivity, compiler=compiler, result=result)\n"
     ]
    },
    {
     "name": "stdout",
     "output_type": "stream",
     "text": [
      "./ELF1_fimo\\FLI1_ELF1_2_fimo\\fimo.tsv\n"
     ]
    },
    {
     "name": "stderr",
     "output_type": "stream",
     "text": [
      "C:\\Users\\jieconlin3\\Anaconda3\\envs\\motif_synthesis_py37\\lib\\site-packages\\IPython\\core\\interactiveshell.py:3147: DtypeWarning: Columns (0) have mixed types.Specify dtype option on import or set low_memory=False.\n",
      "  interactivity=interactivity, compiler=compiler, result=result)\n"
     ]
    },
    {
     "name": "stdout",
     "output_type": "stream",
     "text": [
      "./ELF1_fimo\\GCM2_ELF1_0_fimo\\fimo.tsv\n"
     ]
    },
    {
     "name": "stderr",
     "output_type": "stream",
     "text": [
      "C:\\Users\\jieconlin3\\Anaconda3\\envs\\motif_synthesis_py37\\lib\\site-packages\\IPython\\core\\interactiveshell.py:3147: DtypeWarning: Columns (0) have mixed types.Specify dtype option on import or set low_memory=False.\n",
      "  interactivity=interactivity, compiler=compiler, result=result)\n"
     ]
    },
    {
     "name": "stdout",
     "output_type": "stream",
     "text": [
      "./ELF1_fimo\\GCM2_ELF1_1_fimo\\fimo.tsv\n"
     ]
    },
    {
     "name": "stderr",
     "output_type": "stream",
     "text": [
      "C:\\Users\\jieconlin3\\Anaconda3\\envs\\motif_synthesis_py37\\lib\\site-packages\\IPython\\core\\interactiveshell.py:3147: DtypeWarning: Columns (0) have mixed types.Specify dtype option on import or set low_memory=False.\n",
      "  interactivity=interactivity, compiler=compiler, result=result)\n"
     ]
    },
    {
     "name": "stdout",
     "output_type": "stream",
     "text": [
      "./ELF1_fimo\\HOXA3_ELF1_0_fimo\\fimo.tsv\n"
     ]
    },
    {
     "name": "stderr",
     "output_type": "stream",
     "text": [
      "C:\\Users\\jieconlin3\\Anaconda3\\envs\\motif_synthesis_py37\\lib\\site-packages\\IPython\\core\\interactiveshell.py:3147: DtypeWarning: Columns (0) have mixed types.Specify dtype option on import or set low_memory=False.\n",
      "  interactivity=interactivity, compiler=compiler, result=result)\n"
     ]
    },
    {
     "name": "stdout",
     "output_type": "stream",
     "text": [
      "./ELF1_fimo\\HOXA3_ELF1_1_fimo\\fimo.tsv\n"
     ]
    },
    {
     "name": "stderr",
     "output_type": "stream",
     "text": [
      "C:\\Users\\jieconlin3\\Anaconda3\\envs\\motif_synthesis_py37\\lib\\site-packages\\IPython\\core\\interactiveshell.py:3147: DtypeWarning: Columns (0) have mixed types.Specify dtype option on import or set low_memory=False.\n",
      "  interactivity=interactivity, compiler=compiler, result=result)\n"
     ]
    },
    {
     "name": "stdout",
     "output_type": "stream",
     "text": [
      "./ELF1_fimo\\HOXB13_ELF1_0_fimo\\fimo.tsv\n"
     ]
    },
    {
     "name": "stderr",
     "output_type": "stream",
     "text": [
      "C:\\Users\\jieconlin3\\Anaconda3\\envs\\motif_synthesis_py37\\lib\\site-packages\\IPython\\core\\interactiveshell.py:3147: DtypeWarning: Columns (0) have mixed types.Specify dtype option on import or set low_memory=False.\n",
      "  interactivity=interactivity, compiler=compiler, result=result)\n"
     ]
    },
    {
     "name": "stdout",
     "output_type": "stream",
     "text": [
      "./ELF1_fimo\\HOXC10_ELF1_0_fimo\\fimo.tsv\n"
     ]
    },
    {
     "name": "stderr",
     "output_type": "stream",
     "text": [
      "C:\\Users\\jieconlin3\\Anaconda3\\envs\\motif_synthesis_py37\\lib\\site-packages\\IPython\\core\\interactiveshell.py:3147: DtypeWarning: Columns (0) have mixed types.Specify dtype option on import or set low_memory=False.\n",
      "  interactivity=interactivity, compiler=compiler, result=result)\n"
     ]
    },
    {
     "name": "stdout",
     "output_type": "stream",
     "text": [
      "./ELF1_fimo\\HOXD12_ELF1_0_fimo\\fimo.tsv\n"
     ]
    },
    {
     "name": "stderr",
     "output_type": "stream",
     "text": [
      "C:\\Users\\jieconlin3\\Anaconda3\\envs\\motif_synthesis_py37\\lib\\site-packages\\IPython\\core\\interactiveshell.py:3147: DtypeWarning: Columns (0) have mixed types.Specify dtype option on import or set low_memory=False.\n",
      "  interactivity=interactivity, compiler=compiler, result=result)\n"
     ]
    },
    {
     "name": "stdout",
     "output_type": "stream",
     "text": [
      "./ELF1_fimo\\PITX1_ELF1_0_fimo\\fimo.tsv\n"
     ]
    },
    {
     "name": "stderr",
     "output_type": "stream",
     "text": [
      "C:\\Users\\jieconlin3\\Anaconda3\\envs\\motif_synthesis_py37\\lib\\site-packages\\IPython\\core\\interactiveshell.py:3147: DtypeWarning: Columns (0) have mixed types.Specify dtype option on import or set low_memory=False.\n",
      "  interactivity=interactivity, compiler=compiler, result=result)\n"
     ]
    },
    {
     "name": "stdout",
     "output_type": "stream",
     "text": [
      "./ELF1_fimo\\PITX1_ELF1_1_fimo\\fimo.tsv\n"
     ]
    },
    {
     "name": "stderr",
     "output_type": "stream",
     "text": [
      "C:\\Users\\jieconlin3\\Anaconda3\\envs\\motif_synthesis_py37\\lib\\site-packages\\IPython\\core\\interactiveshell.py:3147: DtypeWarning: Columns (0) have mixed types.Specify dtype option on import or set low_memory=False.\n",
      "  interactivity=interactivity, compiler=compiler, result=result)\n"
     ]
    },
    {
     "name": "stdout",
     "output_type": "stream",
     "text": [
      "./ELF1_fimo\\RFX3_ELF1_0_fimo\\fimo.tsv\n",
      "./ELF1_fimo\\RFX3_ELF1_1_fimo\\fimo.tsv\n",
      "./ELF1_fimo\\RFX3_ELF1_2_fimo\\fimo.tsv\n",
      "./ELF1_fimo\\RFX3_ELF1_3_fimo\\fimo.tsv\n"
     ]
    },
    {
     "name": "stderr",
     "output_type": "stream",
     "text": [
      "C:\\Users\\jieconlin3\\Anaconda3\\envs\\motif_synthesis_py37\\lib\\site-packages\\IPython\\core\\interactiveshell.py:3147: DtypeWarning: Columns (0) have mixed types.Specify dtype option on import or set low_memory=False.\n",
      "  interactivity=interactivity, compiler=compiler, result=result)\n"
     ]
    },
    {
     "name": "stdout",
     "output_type": "stream",
     "text": [
      "./ELF1_fimo\\RFX3_ELF1_4_fimo\\fimo.tsv\n"
     ]
    },
    {
     "name": "stderr",
     "output_type": "stream",
     "text": [
      "C:\\Users\\jieconlin3\\Anaconda3\\envs\\motif_synthesis_py37\\lib\\site-packages\\IPython\\core\\interactiveshell.py:3147: DtypeWarning: Columns (0) have mixed types.Specify dtype option on import or set low_memory=False.\n",
      "  interactivity=interactivity, compiler=compiler, result=result)\n"
     ]
    },
    {
     "name": "stdout",
     "output_type": "stream",
     "text": [
      "./ELF1_fimo\\TFAP4_ELF1_0_fimo\\fimo.tsv\n"
     ]
    },
    {
     "name": "stderr",
     "output_type": "stream",
     "text": [
      "C:\\Users\\jieconlin3\\Anaconda3\\envs\\motif_synthesis_py37\\lib\\site-packages\\IPython\\core\\interactiveshell.py:3147: DtypeWarning: Columns (0) have mixed types.Specify dtype option on import or set low_memory=False.\n",
      "  interactivity=interactivity, compiler=compiler, result=result)\n"
     ]
    },
    {
     "name": "stdout",
     "output_type": "stream",
     "text": [
      "./ELF1_fimo\\TFAP4_ELF1_1_fimo\\fimo.tsv\n"
     ]
    },
    {
     "name": "stderr",
     "output_type": "stream",
     "text": [
      "C:\\Users\\jieconlin3\\Anaconda3\\envs\\motif_synthesis_py37\\lib\\site-packages\\IPython\\core\\interactiveshell.py:3147: DtypeWarning: Columns (0) have mixed types.Specify dtype option on import or set low_memory=False.\n",
      "  interactivity=interactivity, compiler=compiler, result=result)\n"
     ]
    },
    {
     "name": "stdout",
     "output_type": "stream",
     "text": [
      "./ELF1_fimo\\TFAP4_ELF1_2_fimo\\fimo.tsv\n"
     ]
    },
    {
     "name": "stderr",
     "output_type": "stream",
     "text": [
      "C:\\Users\\jieconlin3\\Anaconda3\\envs\\motif_synthesis_py37\\lib\\site-packages\\IPython\\core\\interactiveshell.py:3147: DtypeWarning: Columns (0) have mixed types.Specify dtype option on import or set low_memory=False.\n",
      "  interactivity=interactivity, compiler=compiler, result=result)\n"
     ]
    }
   ],
   "source": [
    "# convert fimo.tsv into bedfile\n",
    "for f in elf1_fimo_files:\n",
    "    print(f)\n",
    "    tdf = pd.read_csv(f, \"\\t\")\n",
    "    # last3idx = [len(tdf)-1, len(tdf)-2, len(tdf)-3]\n",
    "    tdf.dropna(inplace=True)\n",
    "    sdf = tdf[['sequence_name', 'start', 'stop', 'motif_alt_id', 'score', 'strand']]\n",
    "    sdf = sdf.astype({'start': 'int32', 'stop': 'int32'})\n",
    "    save_file = f.replace(\".tsv\", '.bed')\n",
    "    sdf.to_csv(save_file, sep='\\t', header=None, index=False)"
   ]
  },
  {
   "cell_type": "code",
   "execution_count": 28,
   "metadata": {},
   "outputs": [],
   "source": [
    "# download ENCODE DNase cluster peaks\n",
    "# wget http://hgdownload.soe.ucsc.edu/goldenPath/hg19/encodeDCC/wgEncodeRegDnaseClustered/wgEncodeRegDnaseClustered.bed.gz"
   ]
  },
  {
   "cell_type": "code",
   "execution_count": 6,
   "metadata": {},
   "outputs": [],
   "source": [
    "from pybedtools import BedTool"
   ]
  },
  {
   "cell_type": "code",
   "execution_count": 3,
   "metadata": {
    "scrolled": true
   },
   "outputs": [
    {
     "name": "stdout",
     "output_type": "stream",
     "text": [
      "./ELF1_fimo/ETV7_ELF1_3_fimo/fimo.tsv\n"
     ]
    },
    {
     "name": "stderr",
     "output_type": "stream",
     "text": [
      "/home/jieconlin3/anaconda3/envs/py37/lib/python3.7/site-packages/IPython/core/interactiveshell.py:3166: DtypeWarning: Columns (0) have mixed types.Specify dtype option on import or set low_memory=False.\n",
      "  interactivity=interactivity, compiler=compiler, result=result)\n"
     ]
    },
    {
     "name": "stdout",
     "output_type": "stream",
     "text": [
      "./ELF1_fimo/RFX3_ELF1_4_fimo/fimo.tsv\n"
     ]
    },
    {
     "name": "stderr",
     "output_type": "stream",
     "text": [
      "/home/jieconlin3/anaconda3/envs/py37/lib/python3.7/site-packages/IPython/core/interactiveshell.py:3166: DtypeWarning: Columns (0) have mixed types.Specify dtype option on import or set low_memory=False.\n",
      "  interactivity=interactivity, compiler=compiler, result=result)\n"
     ]
    },
    {
     "name": "stdout",
     "output_type": "stream",
     "text": [
      "./ELF1_fimo/ARNTL_ELF1_3_fimo/fimo.tsv\n",
      "./ELF1_fimo/E2F3_ELF1_0_fimo/fimo.tsv\n"
     ]
    },
    {
     "name": "stderr",
     "output_type": "stream",
     "text": [
      "/home/jieconlin3/anaconda3/envs/py37/lib/python3.7/site-packages/IPython/core/interactiveshell.py:3166: DtypeWarning: Columns (0) have mixed types.Specify dtype option on import or set low_memory=False.\n",
      "  interactivity=interactivity, compiler=compiler, result=result)\n"
     ]
    },
    {
     "name": "stdout",
     "output_type": "stream",
     "text": [
      "./ELF1_fimo/ETV5_ELF1_2_fimo/fimo.tsv\n"
     ]
    },
    {
     "name": "stderr",
     "output_type": "stream",
     "text": [
      "/home/jieconlin3/anaconda3/envs/py37/lib/python3.7/site-packages/IPython/core/interactiveshell.py:3166: DtypeWarning: Columns (0) have mixed types.Specify dtype option on import or set low_memory=False.\n",
      "  interactivity=interactivity, compiler=compiler, result=result)\n"
     ]
    },
    {
     "name": "stdout",
     "output_type": "stream",
     "text": [
      "./ELF1_fimo/ETV7_ELF1_2_fimo/fimo.tsv\n",
      "./ELF1_fimo/TFAP4_ELF1_0_fimo/fimo.tsv\n"
     ]
    },
    {
     "name": "stderr",
     "output_type": "stream",
     "text": [
      "/home/jieconlin3/anaconda3/envs/py37/lib/python3.7/site-packages/IPython/core/interactiveshell.py:3166: DtypeWarning: Columns (0) have mixed types.Specify dtype option on import or set low_memory=False.\n",
      "  interactivity=interactivity, compiler=compiler, result=result)\n"
     ]
    },
    {
     "name": "stdout",
     "output_type": "stream",
     "text": [
      "./ELF1_fimo/ERF_ELF1_3_fimo/fimo.tsv\n"
     ]
    },
    {
     "name": "stderr",
     "output_type": "stream",
     "text": [
      "/home/jieconlin3/anaconda3/envs/py37/lib/python3.7/site-packages/IPython/core/interactiveshell.py:3166: DtypeWarning: Columns (0) have mixed types.Specify dtype option on import or set low_memory=False.\n",
      "  interactivity=interactivity, compiler=compiler, result=result)\n"
     ]
    },
    {
     "name": "stdout",
     "output_type": "stream",
     "text": [
      "./ELF1_fimo/CREB3L1_ELF1_0_fimo/fimo.tsv\n",
      "./ELF1_fimo/ETV2_ELF1_2_fimo/fimo.tsv\n",
      "./ELF1_fimo/ELK1_ELF1_3_fimo/fimo.tsv\n"
     ]
    },
    {
     "name": "stderr",
     "output_type": "stream",
     "text": [
      "/home/jieconlin3/anaconda3/envs/py37/lib/python3.7/site-packages/IPython/core/interactiveshell.py:3166: DtypeWarning: Columns (0) have mixed types.Specify dtype option on import or set low_memory=False.\n",
      "  interactivity=interactivity, compiler=compiler, result=result)\n"
     ]
    },
    {
     "name": "stdout",
     "output_type": "stream",
     "text": [
      "./ELF1_fimo/ETV5_ELF1_1_fimo/fimo.tsv\n"
     ]
    },
    {
     "name": "stderr",
     "output_type": "stream",
     "text": [
      "/home/jieconlin3/anaconda3/envs/py37/lib/python3.7/site-packages/IPython/core/interactiveshell.py:3166: DtypeWarning: Columns (0) have mixed types.Specify dtype option on import or set low_memory=False.\n",
      "  interactivity=interactivity, compiler=compiler, result=result)\n"
     ]
    },
    {
     "name": "stdout",
     "output_type": "stream",
     "text": [
      "./ELF1_fimo/ELK1_ELF1_1_fimo/fimo.tsv\n"
     ]
    },
    {
     "name": "stderr",
     "output_type": "stream",
     "text": [
      "/home/jieconlin3/anaconda3/envs/py37/lib/python3.7/site-packages/IPython/core/interactiveshell.py:3166: DtypeWarning: Columns (0) have mixed types.Specify dtype option on import or set low_memory=False.\n",
      "  interactivity=interactivity, compiler=compiler, result=result)\n"
     ]
    },
    {
     "name": "stdout",
     "output_type": "stream",
     "text": [
      "./ELF1_fimo/ELK1_ELF1_2_fimo/fimo.tsv\n"
     ]
    },
    {
     "name": "stderr",
     "output_type": "stream",
     "text": [
      "/home/jieconlin3/anaconda3/envs/py37/lib/python3.7/site-packages/IPython/core/interactiveshell.py:3166: DtypeWarning: Columns (0) have mixed types.Specify dtype option on import or set low_memory=False.\n",
      "  interactivity=interactivity, compiler=compiler, result=result)\n"
     ]
    },
    {
     "name": "stdout",
     "output_type": "stream",
     "text": [
      "./ELF1_fimo/ETV7_ELF1_4_fimo/fimo.tsv\n"
     ]
    },
    {
     "name": "stderr",
     "output_type": "stream",
     "text": [
      "/home/jieconlin3/anaconda3/envs/py37/lib/python3.7/site-packages/IPython/core/interactiveshell.py:3166: DtypeWarning: Columns (0) have mixed types.Specify dtype option on import or set low_memory=False.\n",
      "  interactivity=interactivity, compiler=compiler, result=result)\n"
     ]
    },
    {
     "name": "stdout",
     "output_type": "stream",
     "text": [
      "./ELF1_fimo/HOXA3_ELF1_1_fimo/fimo.tsv\n"
     ]
    },
    {
     "name": "stderr",
     "output_type": "stream",
     "text": [
      "/home/jieconlin3/anaconda3/envs/py37/lib/python3.7/site-packages/IPython/core/interactiveshell.py:3166: DtypeWarning: Columns (0) have mixed types.Specify dtype option on import or set low_memory=False.\n",
      "  interactivity=interactivity, compiler=compiler, result=result)\n"
     ]
    },
    {
     "name": "stdout",
     "output_type": "stream",
     "text": [
      "./ELF1_fimo/HOXC10_ELF1_0_fimo/fimo.tsv\n"
     ]
    },
    {
     "name": "stderr",
     "output_type": "stream",
     "text": [
      "/home/jieconlin3/anaconda3/envs/py37/lib/python3.7/site-packages/IPython/core/interactiveshell.py:3166: DtypeWarning: Columns (0) have mixed types.Specify dtype option on import or set low_memory=False.\n",
      "  interactivity=interactivity, compiler=compiler, result=result)\n"
     ]
    },
    {
     "name": "stdout",
     "output_type": "stream",
     "text": [
      "./ELF1_fimo/RFX3_ELF1_0_fimo/fimo.tsv\n",
      "./ELF1_fimo/ERF_ELF1_0_fimo/fimo.tsv\n"
     ]
    },
    {
     "name": "stderr",
     "output_type": "stream",
     "text": [
      "/home/jieconlin3/anaconda3/envs/py37/lib/python3.7/site-packages/IPython/core/interactiveshell.py:3166: DtypeWarning: Columns (0) have mixed types.Specify dtype option on import or set low_memory=False.\n",
      "  interactivity=interactivity, compiler=compiler, result=result)\n"
     ]
    },
    {
     "name": "stdout",
     "output_type": "stream",
     "text": [
      "./ELF1_fimo/FLI1_ELF1_0_fimo/fimo.tsv\n"
     ]
    },
    {
     "name": "stderr",
     "output_type": "stream",
     "text": [
      "/home/jieconlin3/anaconda3/envs/py37/lib/python3.7/site-packages/IPython/core/interactiveshell.py:3166: DtypeWarning: Columns (0) have mixed types.Specify dtype option on import or set low_memory=False.\n",
      "  interactivity=interactivity, compiler=compiler, result=result)\n"
     ]
    },
    {
     "name": "stdout",
     "output_type": "stream",
     "text": [
      "./ELF1_fimo/ERF_ELF1_1_fimo/fimo.tsv\n"
     ]
    },
    {
     "name": "stderr",
     "output_type": "stream",
     "text": [
      "/home/jieconlin3/anaconda3/envs/py37/lib/python3.7/site-packages/IPython/core/interactiveshell.py:3166: DtypeWarning: Columns (0) have mixed types.Specify dtype option on import or set low_memory=False.\n",
      "  interactivity=interactivity, compiler=compiler, result=result)\n"
     ]
    },
    {
     "name": "stdout",
     "output_type": "stream",
     "text": [
      "./ELF1_fimo/GCM2_ELF1_0_fimo/fimo.tsv\n"
     ]
    },
    {
     "name": "stderr",
     "output_type": "stream",
     "text": [
      "/home/jieconlin3/anaconda3/envs/py37/lib/python3.7/site-packages/IPython/core/interactiveshell.py:3166: DtypeWarning: Columns (0) have mixed types.Specify dtype option on import or set low_memory=False.\n",
      "  interactivity=interactivity, compiler=compiler, result=result)\n"
     ]
    },
    {
     "name": "stdout",
     "output_type": "stream",
     "text": [
      "./ELF1_fimo/TFAP4_ELF1_1_fimo/fimo.tsv\n"
     ]
    },
    {
     "name": "stderr",
     "output_type": "stream",
     "text": [
      "/home/jieconlin3/anaconda3/envs/py37/lib/python3.7/site-packages/IPython/core/interactiveshell.py:3166: DtypeWarning: Columns (0) have mixed types.Specify dtype option on import or set low_memory=False.\n",
      "  interactivity=interactivity, compiler=compiler, result=result)\n"
     ]
    },
    {
     "name": "stdout",
     "output_type": "stream",
     "text": [
      "./ELF1_fimo/ERF_ELF1_2_fimo/fimo.tsv\n"
     ]
    },
    {
     "name": "stderr",
     "output_type": "stream",
     "text": [
      "/home/jieconlin3/anaconda3/envs/py37/lib/python3.7/site-packages/IPython/core/interactiveshell.py:3166: DtypeWarning: Columns (0) have mixed types.Specify dtype option on import or set low_memory=False.\n",
      "  interactivity=interactivity, compiler=compiler, result=result)\n"
     ]
    },
    {
     "name": "stdout",
     "output_type": "stream",
     "text": [
      "./ELF1_fimo/ETV2_ELF1_1_fimo/fimo.tsv\n"
     ]
    },
    {
     "name": "stderr",
     "output_type": "stream",
     "text": [
      "/home/jieconlin3/anaconda3/envs/py37/lib/python3.7/site-packages/IPython/core/interactiveshell.py:3166: DtypeWarning: Columns (0) have mixed types.Specify dtype option on import or set low_memory=False.\n",
      "  interactivity=interactivity, compiler=compiler, result=result)\n"
     ]
    },
    {
     "name": "stdout",
     "output_type": "stream",
     "text": [
      "./ELF1_fimo/ETV2_ELF1_3_fimo/fimo.tsv\n"
     ]
    },
    {
     "name": "stderr",
     "output_type": "stream",
     "text": [
      "/home/jieconlin3/anaconda3/envs/py37/lib/python3.7/site-packages/IPython/core/interactiveshell.py:3166: DtypeWarning: Columns (0) have mixed types.Specify dtype option on import or set low_memory=False.\n",
      "  interactivity=interactivity, compiler=compiler, result=result)\n"
     ]
    },
    {
     "name": "stdout",
     "output_type": "stream",
     "text": [
      "./ELF1_fimo/EVX1_ELF1_2_fimo/fimo.tsv\n"
     ]
    },
    {
     "name": "stderr",
     "output_type": "stream",
     "text": [
      "/home/jieconlin3/anaconda3/envs/py37/lib/python3.7/site-packages/IPython/core/interactiveshell.py:3166: DtypeWarning: Columns (0) have mixed types.Specify dtype option on import or set low_memory=False.\n",
      "  interactivity=interactivity, compiler=compiler, result=result)\n"
     ]
    },
    {
     "name": "stdout",
     "output_type": "stream",
     "text": [
      "./ELF1_fimo/PITX1_ELF1_0_fimo/fimo.tsv\n"
     ]
    },
    {
     "name": "stderr",
     "output_type": "stream",
     "text": [
      "/home/jieconlin3/anaconda3/envs/py37/lib/python3.7/site-packages/IPython/core/interactiveshell.py:3166: DtypeWarning: Columns (0) have mixed types.Specify dtype option on import or set low_memory=False.\n",
      "  interactivity=interactivity, compiler=compiler, result=result)\n"
     ]
    },
    {
     "name": "stdout",
     "output_type": "stream",
     "text": [
      "./ELF1_fimo/EVX1_ELF1_0_fimo/fimo.tsv\n",
      "./ELF1_fimo/ETV7_ELF1_0_fimo/fimo.tsv\n"
     ]
    },
    {
     "name": "stderr",
     "output_type": "stream",
     "text": [
      "/home/jieconlin3/anaconda3/envs/py37/lib/python3.7/site-packages/IPython/core/interactiveshell.py:3166: DtypeWarning: Columns (0) have mixed types.Specify dtype option on import or set low_memory=False.\n",
      "  interactivity=interactivity, compiler=compiler, result=result)\n"
     ]
    },
    {
     "name": "stdout",
     "output_type": "stream",
     "text": [
      "./ELF1_fimo/HOXD12_ELF1_0_fimo/fimo.tsv\n"
     ]
    },
    {
     "name": "stderr",
     "output_type": "stream",
     "text": [
      "/home/jieconlin3/anaconda3/envs/py37/lib/python3.7/site-packages/IPython/core/interactiveshell.py:3166: DtypeWarning: Columns (0) have mixed types.Specify dtype option on import or set low_memory=False.\n",
      "  interactivity=interactivity, compiler=compiler, result=result)\n"
     ]
    },
    {
     "name": "stdout",
     "output_type": "stream",
     "text": [
      "./ELF1_fimo/ETV5_ELF1_3_fimo/fimo.tsv\n"
     ]
    },
    {
     "name": "stderr",
     "output_type": "stream",
     "text": [
      "/home/jieconlin3/anaconda3/envs/py37/lib/python3.7/site-packages/IPython/core/interactiveshell.py:3166: DtypeWarning: Columns (0) have mixed types.Specify dtype option on import or set low_memory=False.\n",
      "  interactivity=interactivity, compiler=compiler, result=result)\n"
     ]
    },
    {
     "name": "stdout",
     "output_type": "stream",
     "text": [
      "./ELF1_fimo/ELK1_ELF1_0_fimo/fimo.tsv\n"
     ]
    },
    {
     "name": "stderr",
     "output_type": "stream",
     "text": [
      "/home/jieconlin3/anaconda3/envs/py37/lib/python3.7/site-packages/IPython/core/interactiveshell.py:3166: DtypeWarning: Columns (0) have mixed types.Specify dtype option on import or set low_memory=False.\n",
      "  interactivity=interactivity, compiler=compiler, result=result)\n"
     ]
    },
    {
     "name": "stdout",
     "output_type": "stream",
     "text": [
      "./ELF1_fimo/EVX1_ELF1_1_fimo/fimo.tsv\n",
      "./ELF1_fimo/EVX1_ELF1_3_fimo/fimo.tsv\n"
     ]
    },
    {
     "name": "stderr",
     "output_type": "stream",
     "text": [
      "/home/jieconlin3/anaconda3/envs/py37/lib/python3.7/site-packages/IPython/core/interactiveshell.py:3166: DtypeWarning: Columns (0) have mixed types.Specify dtype option on import or set low_memory=False.\n",
      "  interactivity=interactivity, compiler=compiler, result=result)\n"
     ]
    },
    {
     "name": "stdout",
     "output_type": "stream",
     "text": [
      "./ELF1_fimo/ETV2_ELF1_0_fimo/fimo.tsv\n",
      "./ELF1_fimo/E2F3_ELF1_1_fimo/fimo.tsv\n",
      "./ELF1_fimo/E2F3_ELF1_2_fimo/fimo.tsv\n",
      "./ELF1_fimo/HOXB13_ELF1_0_fimo/fimo.tsv\n"
     ]
    },
    {
     "name": "stderr",
     "output_type": "stream",
     "text": [
      "/home/jieconlin3/anaconda3/envs/py37/lib/python3.7/site-packages/IPython/core/interactiveshell.py:3166: DtypeWarning: Columns (0) have mixed types.Specify dtype option on import or set low_memory=False.\n",
      "  interactivity=interactivity, compiler=compiler, result=result)\n"
     ]
    },
    {
     "name": "stdout",
     "output_type": "stream",
     "text": [
      "./ELF1_fimo/FLI1_ELF1_2_fimo/fimo.tsv\n"
     ]
    },
    {
     "name": "stderr",
     "output_type": "stream",
     "text": [
      "/home/jieconlin3/anaconda3/envs/py37/lib/python3.7/site-packages/IPython/core/interactiveshell.py:3166: DtypeWarning: Columns (0) have mixed types.Specify dtype option on import or set low_memory=False.\n",
      "  interactivity=interactivity, compiler=compiler, result=result)\n"
     ]
    },
    {
     "name": "stdout",
     "output_type": "stream",
     "text": [
      "./ELF1_fimo/RFX3_ELF1_3_fimo/fimo.tsv\n"
     ]
    },
    {
     "name": "stderr",
     "output_type": "stream",
     "text": [
      "/home/jieconlin3/anaconda3/envs/py37/lib/python3.7/site-packages/IPython/core/interactiveshell.py:3166: DtypeWarning: Columns (0) have mixed types.Specify dtype option on import or set low_memory=False.\n",
      "  interactivity=interactivity, compiler=compiler, result=result)\n"
     ]
    },
    {
     "name": "stdout",
     "output_type": "stream",
     "text": [
      "./ELF1_fimo/ARNTL_ELF1_1_fimo/fimo.tsv\n"
     ]
    },
    {
     "name": "stderr",
     "output_type": "stream",
     "text": [
      "/home/jieconlin3/anaconda3/envs/py37/lib/python3.7/site-packages/IPython/core/interactiveshell.py:3166: DtypeWarning: Columns (0) have mixed types.Specify dtype option on import or set low_memory=False.\n",
      "  interactivity=interactivity, compiler=compiler, result=result)\n"
     ]
    },
    {
     "name": "stdout",
     "output_type": "stream",
     "text": [
      "./ELF1_fimo/ETV7_ELF1_1_fimo/fimo.tsv\n",
      "./ELF1_fimo/TFAP4_ELF1_2_fimo/fimo.tsv\n"
     ]
    },
    {
     "name": "stderr",
     "output_type": "stream",
     "text": [
      "/home/jieconlin3/anaconda3/envs/py37/lib/python3.7/site-packages/IPython/core/interactiveshell.py:3166: DtypeWarning: Columns (0) have mixed types.Specify dtype option on import or set low_memory=False.\n",
      "  interactivity=interactivity, compiler=compiler, result=result)\n"
     ]
    },
    {
     "name": "stdout",
     "output_type": "stream",
     "text": [
      "./ELF1_fimo/ETV5_ELF1_0_fimo/fimo.tsv\n"
     ]
    },
    {
     "name": "stderr",
     "output_type": "stream",
     "text": [
      "/home/jieconlin3/anaconda3/envs/py37/lib/python3.7/site-packages/IPython/core/interactiveshell.py:3166: DtypeWarning: Columns (0) have mixed types.Specify dtype option on import or set low_memory=False.\n",
      "  interactivity=interactivity, compiler=compiler, result=result)\n"
     ]
    },
    {
     "name": "stdout",
     "output_type": "stream",
     "text": [
      "./ELF1_fimo/RFX3_ELF1_1_fimo/fimo.tsv\n",
      "./ELF1_fimo/ALX4_ELF1_0_fimo/fimo.tsv\n",
      "./ELF1_fimo/FLI1_ELF1_1_fimo/fimo.tsv\n"
     ]
    },
    {
     "name": "stderr",
     "output_type": "stream",
     "text": [
      "/home/jieconlin3/anaconda3/envs/py37/lib/python3.7/site-packages/IPython/core/interactiveshell.py:3166: DtypeWarning: Columns (0) have mixed types.Specify dtype option on import or set low_memory=False.\n",
      "  interactivity=interactivity, compiler=compiler, result=result)\n"
     ]
    },
    {
     "name": "stdout",
     "output_type": "stream",
     "text": [
      "./ELF1_fimo/HOXA3_ELF1_0_fimo/fimo.tsv\n"
     ]
    },
    {
     "name": "stderr",
     "output_type": "stream",
     "text": [
      "/home/jieconlin3/anaconda3/envs/py37/lib/python3.7/site-packages/IPython/core/interactiveshell.py:3166: DtypeWarning: Columns (0) have mixed types.Specify dtype option on import or set low_memory=False.\n",
      "  interactivity=interactivity, compiler=compiler, result=result)\n"
     ]
    },
    {
     "name": "stdout",
     "output_type": "stream",
     "text": [
      "./ELF1_fimo/ARNTL_ELF1_2_fimo/fimo.tsv\n"
     ]
    },
    {
     "name": "stderr",
     "output_type": "stream",
     "text": [
      "/home/jieconlin3/anaconda3/envs/py37/lib/python3.7/site-packages/IPython/core/interactiveshell.py:3166: DtypeWarning: Columns (0) have mixed types.Specify dtype option on import or set low_memory=False.\n",
      "  interactivity=interactivity, compiler=compiler, result=result)\n"
     ]
    },
    {
     "name": "stdout",
     "output_type": "stream",
     "text": [
      "./ELF1_fimo/GCM2_ELF1_1_fimo/fimo.tsv\n"
     ]
    },
    {
     "name": "stderr",
     "output_type": "stream",
     "text": [
      "/home/jieconlin3/anaconda3/envs/py37/lib/python3.7/site-packages/IPython/core/interactiveshell.py:3166: DtypeWarning: Columns (0) have mixed types.Specify dtype option on import or set low_memory=False.\n",
      "  interactivity=interactivity, compiler=compiler, result=result)\n"
     ]
    },
    {
     "name": "stdout",
     "output_type": "stream",
     "text": [
      "./ELF1_fimo/ARNTL_ELF1_0_fimo/fimo.tsv\n"
     ]
    },
    {
     "name": "stderr",
     "output_type": "stream",
     "text": [
      "/home/jieconlin3/anaconda3/envs/py37/lib/python3.7/site-packages/IPython/core/interactiveshell.py:3166: DtypeWarning: Columns (0) have mixed types.Specify dtype option on import or set low_memory=False.\n",
      "  interactivity=interactivity, compiler=compiler, result=result)\n"
     ]
    },
    {
     "name": "stdout",
     "output_type": "stream",
     "text": [
      "./ELF1_fimo/RFX3_ELF1_2_fimo/fimo.tsv\n",
      "./ELF1_fimo/PITX1_ELF1_1_fimo/fimo.tsv\n"
     ]
    },
    {
     "name": "stderr",
     "output_type": "stream",
     "text": [
      "/home/jieconlin3/anaconda3/envs/py37/lib/python3.7/site-packages/IPython/core/interactiveshell.py:3166: DtypeWarning: Columns (0) have mixed types.Specify dtype option on import or set low_memory=False.\n",
      "  interactivity=interactivity, compiler=compiler, result=result)\n"
     ]
    }
   ],
   "source": [
    "# convert fimo.tsv into bedfile\n",
    "elf1_fimo_files = glob.glob(\"./ELF1_fimo/*/fimo.tsv\")\n",
    "for f in elf1_fimo_files:\n",
    "    print(f)\n",
    "    tdf = pd.read_csv(f, \"\\t\")\n",
    "    # last3idx = [len(tdf)-1, len(tdf)-2, len(tdf)-3]\n",
    "    tdf.dropna(inplace=True)\n",
    "    sdf = tdf[['sequence_name', 'start', 'stop', 'motif_alt_id', 'score', 'strand']]\n",
    "    sdf = sdf.astype({'start': 'int32', 'stop': 'int32'})\n",
    "    save_file = f.replace(\".tsv\", '.bed')\n",
    "    sdf.to_csv(save_file, sep='\\t', header=None, index=False)"
   ]
  },
  {
   "cell_type": "code",
   "execution_count": 7,
   "metadata": {},
   "outputs": [],
   "source": [
    "dnaseClusterBed = BedTool(\"./wgEncodeRegDnaseClustered.bed\")"
   ]
  },
  {
   "cell_type": "code",
   "execution_count": 8,
   "metadata": {},
   "outputs": [
    {
     "name": "stdout",
     "output_type": "stream",
     "text": [
      "./ELF1_fimo/ETV7_ELF1_3_fimo/fimo.bed\n",
      "./ELF1_fimo/RFX3_ELF1_4_fimo/fimo.bed\n",
      "./ELF1_fimo/ARNTL_ELF1_3_fimo/fimo.bed\n",
      "./ELF1_fimo/E2F3_ELF1_0_fimo/fimo.bed\n",
      "./ELF1_fimo/ETV5_ELF1_2_fimo/fimo.bed\n",
      "./ELF1_fimo/ETV7_ELF1_2_fimo/fimo.bed\n",
      "./ELF1_fimo/TFAP4_ELF1_0_fimo/fimo.bed\n",
      "./ELF1_fimo/ERF_ELF1_3_fimo/fimo.bed\n",
      "./ELF1_fimo/CREB3L1_ELF1_0_fimo/fimo.bed\n",
      "./ELF1_fimo/ETV2_ELF1_2_fimo/fimo.bed\n",
      "./ELF1_fimo/ELK1_ELF1_3_fimo/fimo.bed\n",
      "./ELF1_fimo/ETV5_ELF1_1_fimo/fimo.bed\n",
      "./ELF1_fimo/ELK1_ELF1_1_fimo/fimo.bed\n",
      "./ELF1_fimo/ELK1_ELF1_2_fimo/fimo.bed\n",
      "./ELF1_fimo/ETV7_ELF1_4_fimo/fimo.bed\n",
      "./ELF1_fimo/HOXA3_ELF1_1_fimo/fimo.bed\n",
      "./ELF1_fimo/HOXC10_ELF1_0_fimo/fimo.bed\n",
      "./ELF1_fimo/RFX3_ELF1_0_fimo/fimo.bed\n",
      "./ELF1_fimo/ERF_ELF1_0_fimo/fimo.bed\n",
      "./ELF1_fimo/FLI1_ELF1_0_fimo/fimo.bed\n",
      "./ELF1_fimo/ERF_ELF1_1_fimo/fimo.bed\n",
      "./ELF1_fimo/GCM2_ELF1_0_fimo/fimo.bed\n",
      "./ELF1_fimo/TFAP4_ELF1_1_fimo/fimo.bed\n",
      "./ELF1_fimo/ERF_ELF1_2_fimo/fimo.bed\n",
      "./ELF1_fimo/ETV2_ELF1_1_fimo/fimo.bed\n",
      "./ELF1_fimo/ETV2_ELF1_3_fimo/fimo.bed\n",
      "./ELF1_fimo/EVX1_ELF1_2_fimo/fimo.bed\n",
      "./ELF1_fimo/PITX1_ELF1_0_fimo/fimo.bed\n",
      "./ELF1_fimo/EVX1_ELF1_0_fimo/fimo.bed\n",
      "./ELF1_fimo/ETV7_ELF1_0_fimo/fimo.bed\n",
      "./ELF1_fimo/HOXD12_ELF1_0_fimo/fimo.bed\n",
      "./ELF1_fimo/ETV5_ELF1_3_fimo/fimo.bed\n",
      "./ELF1_fimo/ELK1_ELF1_0_fimo/fimo.bed\n",
      "./ELF1_fimo/EVX1_ELF1_1_fimo/fimo.bed\n",
      "./ELF1_fimo/EVX1_ELF1_3_fimo/fimo.bed\n",
      "./ELF1_fimo/ETV2_ELF1_0_fimo/fimo.bed\n",
      "./ELF1_fimo/E2F3_ELF1_1_fimo/fimo.bed\n",
      "./ELF1_fimo/E2F3_ELF1_2_fimo/fimo.bed\n",
      "./ELF1_fimo/HOXB13_ELF1_0_fimo/fimo.bed\n",
      "./ELF1_fimo/FLI1_ELF1_2_fimo/fimo.bed\n",
      "./ELF1_fimo/RFX3_ELF1_3_fimo/fimo.bed\n",
      "./ELF1_fimo/ARNTL_ELF1_1_fimo/fimo.bed\n",
      "./ELF1_fimo/ETV7_ELF1_1_fimo/fimo.bed\n",
      "./ELF1_fimo/TFAP4_ELF1_2_fimo/fimo.bed\n",
      "./ELF1_fimo/ETV5_ELF1_0_fimo/fimo.bed\n",
      "./ELF1_fimo/RFX3_ELF1_1_fimo/fimo.bed\n",
      "./ELF1_fimo/ALX4_ELF1_0_fimo/fimo.bed\n",
      "./ELF1_fimo/FLI1_ELF1_1_fimo/fimo.bed\n",
      "./ELF1_fimo/HOXA3_ELF1_0_fimo/fimo.bed\n",
      "./ELF1_fimo/ARNTL_ELF1_2_fimo/fimo.bed\n",
      "./ELF1_fimo/GCM2_ELF1_1_fimo/fimo.bed\n",
      "./ELF1_fimo/ARNTL_ELF1_0_fimo/fimo.bed\n",
      "./ELF1_fimo/RFX3_ELF1_2_fimo/fimo.bed\n",
      "./ELF1_fimo/PITX1_ELF1_1_fimo/fimo.bed\n"
     ]
    }
   ],
   "source": [
    "pax5_fimo_bed = glob.glob(\"./ELF1_fimo/*/fimo.bed\")\n",
    "for f in pax5_fimo_bed:\n",
    "    print(f)\n",
    "    fimo_bed = BedTool(f)\n",
    "    save_bed_f = f.replace(\"fimo.bed\", \"fimo_dnasecluster.bed\")\n",
    "    fimo_bed.intersect(dnaseClusterBed, wa=True, wb=True).moveto(save_bed_f)"
   ]
  },
  {
   "cell_type": "code",
   "execution_count": 12,
   "metadata": {
    "scrolled": true
   },
   "outputs": [
    {
     "name": "stdout",
     "output_type": "stream",
     "text": [
      "./ELF1_fimo/ETV7_ELF1_3_fimo/fimo.bed 0.19321505166699163\n",
      "./ELF1_fimo/RFX3_ELF1_4_fimo/fimo.bed 0.20863159150560726\n",
      "./ELF1_fimo/ARNTL_ELF1_3_fimo/fimo.bed 0.24854726886546707\n",
      "./ELF1_fimo/E2F3_ELF1_0_fimo/fimo.bed 0.14499930578053408\n",
      "./ELF1_fimo/ETV5_ELF1_2_fimo/fimo.bed 0.25425168921197083\n",
      "./ELF1_fimo/ETV7_ELF1_2_fimo/fimo.bed 0.2776925953627524\n",
      "./ELF1_fimo/TFAP4_ELF1_0_fimo/fimo.bed 0.20459850784980851\n",
      "./ELF1_fimo/ERF_ELF1_3_fimo/fimo.bed 0.16737292911078552\n",
      "./ELF1_fimo/CREB3L1_ELF1_0_fimo/fimo.bed 0.2024846574269246\n",
      "./ELF1_fimo/ETV2_ELF1_2_fimo/fimo.bed 0.19954779987245638\n",
      "./ELF1_fimo/ELK1_ELF1_3_fimo/fimo.bed 0.16513511467716296\n",
      "./ELF1_fimo/ETV5_ELF1_1_fimo/fimo.bed 0.23817555257102999\n",
      "./ELF1_fimo/ELK1_ELF1_1_fimo/fimo.bed 0.19821665113084433\n",
      "./ELF1_fimo/ELK1_ELF1_2_fimo/fimo.bed 0.2238355755886637\n",
      "./ELF1_fimo/ETV7_ELF1_4_fimo/fimo.bed 0.18022221544529496\n",
      "./ELF1_fimo/HOXA3_ELF1_1_fimo/fimo.bed 0.19343240907684595\n",
      "./ELF1_fimo/HOXC10_ELF1_0_fimo/fimo.bed 0.12556504877900987\n",
      "./ELF1_fimo/RFX3_ELF1_0_fimo/fimo.bed 0.25498472646487086\n",
      "./ELF1_fimo/ERF_ELF1_0_fimo/fimo.bed 0.17926096407109066\n",
      "./ELF1_fimo/FLI1_ELF1_0_fimo/fimo.bed 0.1636982033440648\n",
      "./ELF1_fimo/ERF_ELF1_1_fimo/fimo.bed 0.2527493751420132\n",
      "./ELF1_fimo/GCM2_ELF1_0_fimo/fimo.bed 0.15975112954595955\n",
      "./ELF1_fimo/TFAP4_ELF1_1_fimo/fimo.bed 0.2284686275296604\n",
      "./ELF1_fimo/ERF_ELF1_2_fimo/fimo.bed 0.208985645518019\n",
      "./ELF1_fimo/ETV2_ELF1_1_fimo/fimo.bed 0.2513009829649068\n",
      "./ELF1_fimo/ETV2_ELF1_3_fimo/fimo.bed 0.20603008636375286\n",
      "./ELF1_fimo/EVX1_ELF1_2_fimo/fimo.bed 0.1925311641664906\n",
      "./ELF1_fimo/PITX1_ELF1_0_fimo/fimo.bed 0.20502853067047075\n",
      "./ELF1_fimo/EVX1_ELF1_0_fimo/fimo.bed 0.18655649687968484\n",
      "./ELF1_fimo/ETV7_ELF1_0_fimo/fimo.bed 0.22863856999768858\n",
      "./ELF1_fimo/HOXD12_ELF1_0_fimo/fimo.bed 0.17952814339163686\n",
      "./ELF1_fimo/ETV5_ELF1_3_fimo/fimo.bed 0.15301038352034835\n",
      "./ELF1_fimo/ELK1_ELF1_0_fimo/fimo.bed 0.24353370151608844\n",
      "./ELF1_fimo/EVX1_ELF1_1_fimo/fimo.bed 0.12094032125688826\n",
      "./ELF1_fimo/EVX1_ELF1_3_fimo/fimo.bed 0.17247284638813862\n",
      "./ELF1_fimo/ETV2_ELF1_0_fimo/fimo.bed 0.15295354616708087\n",
      "./ELF1_fimo/E2F3_ELF1_1_fimo/fimo.bed 0.23021464853350812\n",
      "./ELF1_fimo/E2F3_ELF1_2_fimo/fimo.bed 0.22548055093083094\n",
      "./ELF1_fimo/HOXB13_ELF1_0_fimo/fimo.bed 0.14747773203861214\n",
      "./ELF1_fimo/FLI1_ELF1_2_fimo/fimo.bed 0.2742549854358055\n",
      "./ELF1_fimo/RFX3_ELF1_3_fimo/fimo.bed 0.1769304903023732\n",
      "./ELF1_fimo/ARNTL_ELF1_1_fimo/fimo.bed 0.21340207472505524\n",
      "./ELF1_fimo/ETV7_ELF1_1_fimo/fimo.bed 0.14878569022939042\n",
      "./ELF1_fimo/TFAP4_ELF1_2_fimo/fimo.bed 0.21092837748484125\n",
      "./ELF1_fimo/ETV5_ELF1_0_fimo/fimo.bed 0.2403123737713747\n",
      "./ELF1_fimo/RFX3_ELF1_1_fimo/fimo.bed 0.2624387778900723\n",
      "./ELF1_fimo/ALX4_ELF1_0_fimo/fimo.bed 0.1737764717803222\n",
      "./ELF1_fimo/FLI1_ELF1_1_fimo/fimo.bed 0.22654889536957387\n",
      "./ELF1_fimo/HOXA3_ELF1_0_fimo/fimo.bed 0.1833320926869211\n",
      "./ELF1_fimo/ARNTL_ELF1_2_fimo/fimo.bed 0.2230480754911119\n",
      "./ELF1_fimo/GCM2_ELF1_1_fimo/fimo.bed 0.19613216329006683\n",
      "./ELF1_fimo/ARNTL_ELF1_0_fimo/fimo.bed 0.20759951601667054\n",
      "./ELF1_fimo/RFX3_ELF1_2_fimo/fimo.bed 0.23914715902846467\n",
      "./ELF1_fimo/PITX1_ELF1_1_fimo/fimo.bed 0.07033425398793755\n"
     ]
    }
   ],
   "source": [
    "ELF1_overfrac = {}\n",
    "ELF1_fimo_bed = glob.glob(\"./ELF1_fimo/*/fimo.bed\")\n",
    "for f in ELF1_fimo_bed:\n",
    "    mp_name = re.split(\"/|_fimo\", f)[-3]\n",
    "    fbed = pd.read_csv(f, \"\\t\", header=None)\n",
    "    dnasebed = pd.read_csv(f.replace(\"fimo.bed\", \"fimo_dnasecluster.bed\"), \"\\t\", header=None)\n",
    "    print(f, len(dnasebed)/len(fbed))\n",
    "    ELF1_overfrac[mp_name] = [len(fbed), len(dnasebed), len(dnasebed)/len(fbed)]"
   ]
  },
  {
   "cell_type": "code",
   "execution_count": 13,
   "metadata": {},
   "outputs": [],
   "source": [
    "df = pd.DataFrame(ELF1_overfrac.keys(), columns=['motif_id']).set_index('motif_id')\n",
    "for idx, row in df.iterrows():\n",
    "    df.loc[idx, 'heterodimeric motif'] = \"_\".join(idx.split(\"_\")[:2])\n",
    "    df.loc[idx, 'geonomewide occurrence'] = ELF1_overfrac[idx][0]\n",
    "    df.loc[idx, 'DNase overlap peaks count'] = ELF1_overfrac[idx][1]\n",
    "    df.loc[idx, 'DNase overlap fraction'] = ELF1_overfrac[idx][-1]"
   ]
  },
  {
   "cell_type": "code",
   "execution_count": 22,
   "metadata": {},
   "outputs": [],
   "source": [
    "df.to_csv(\"./ELF1_related_motif_dnase_validation.csv\")"
   ]
  },
  {
   "cell_type": "code",
   "execution_count": 36,
   "metadata": {},
   "outputs": [],
   "source": [
    "df = pd.read_csv(\"./ELF1_related_motif_dnase_validation.csv\")"
   ]
  },
  {
   "cell_type": "code",
   "execution_count": 42,
   "metadata": {},
   "outputs": [],
   "source": [
    "for idx, row in df.iterrows():\n",
    "    df.loc[idx, 'family'] = np.array(family_list)[np.array(motif_list) == row['heterodimeric motif']][0]\n",
    "sorted_ELF1_dnase = df.sort_values(by='DNase overlap fraction', ascending=False)[['heterodimeric motif', 'motif_id', 'geonomewide occurrence', 'DNase overlap peaks count', 'DNase overlap fraction']]"
   ]
  },
  {
   "cell_type": "code",
   "execution_count": 57,
   "metadata": {
    "scrolled": true
   },
   "outputs": [],
   "source": [
    "sorted_ELF1_dnase.to_csv(\"ELF1_related_motif_dnase_validation_sorted.csv\")"
   ]
  },
  {
   "cell_type": "code",
   "execution_count": 56,
   "metadata": {},
   "outputs": [
    {
     "data": {
      "application/javascript": [
       "/* Put everything inside the global mpl namespace */\n",
       "/* global mpl */\n",
       "window.mpl = {};\n",
       "\n",
       "mpl.get_websocket_type = function () {\n",
       "    if (typeof WebSocket !== 'undefined') {\n",
       "        return WebSocket;\n",
       "    } else if (typeof MozWebSocket !== 'undefined') {\n",
       "        return MozWebSocket;\n",
       "    } else {\n",
       "        alert(\n",
       "            'Your browser does not have WebSocket support. ' +\n",
       "                'Please try Chrome, Safari or Firefox ≥ 6. ' +\n",
       "                'Firefox 4 and 5 are also supported but you ' +\n",
       "                'have to enable WebSockets in about:config.'\n",
       "        );\n",
       "    }\n",
       "};\n",
       "\n",
       "mpl.figure = function (figure_id, websocket, ondownload, parent_element) {\n",
       "    this.id = figure_id;\n",
       "\n",
       "    this.ws = websocket;\n",
       "\n",
       "    this.supports_binary = this.ws.binaryType !== undefined;\n",
       "\n",
       "    if (!this.supports_binary) {\n",
       "        var warnings = document.getElementById('mpl-warnings');\n",
       "        if (warnings) {\n",
       "            warnings.style.display = 'block';\n",
       "            warnings.textContent =\n",
       "                'This browser does not support binary websocket messages. ' +\n",
       "                'Performance may be slow.';\n",
       "        }\n",
       "    }\n",
       "\n",
       "    this.imageObj = new Image();\n",
       "\n",
       "    this.context = undefined;\n",
       "    this.message = undefined;\n",
       "    this.canvas = undefined;\n",
       "    this.rubberband_canvas = undefined;\n",
       "    this.rubberband_context = undefined;\n",
       "    this.format_dropdown = undefined;\n",
       "\n",
       "    this.image_mode = 'full';\n",
       "\n",
       "    this.root = document.createElement('div');\n",
       "    this.root.setAttribute('style', 'display: inline-block');\n",
       "    this._root_extra_style(this.root);\n",
       "\n",
       "    parent_element.appendChild(this.root);\n",
       "\n",
       "    this._init_header(this);\n",
       "    this._init_canvas(this);\n",
       "    this._init_toolbar(this);\n",
       "\n",
       "    var fig = this;\n",
       "\n",
       "    this.waiting = false;\n",
       "\n",
       "    this.ws.onopen = function () {\n",
       "        fig.send_message('supports_binary', { value: fig.supports_binary });\n",
       "        fig.send_message('send_image_mode', {});\n",
       "        if (fig.ratio !== 1) {\n",
       "            fig.send_message('set_dpi_ratio', { dpi_ratio: fig.ratio });\n",
       "        }\n",
       "        fig.send_message('refresh', {});\n",
       "    };\n",
       "\n",
       "    this.imageObj.onload = function () {\n",
       "        if (fig.image_mode === 'full') {\n",
       "            // Full images could contain transparency (where diff images\n",
       "            // almost always do), so we need to clear the canvas so that\n",
       "            // there is no ghosting.\n",
       "            fig.context.clearRect(0, 0, fig.canvas.width, fig.canvas.height);\n",
       "        }\n",
       "        fig.context.drawImage(fig.imageObj, 0, 0);\n",
       "    };\n",
       "\n",
       "    this.imageObj.onunload = function () {\n",
       "        fig.ws.close();\n",
       "    };\n",
       "\n",
       "    this.ws.onmessage = this._make_on_message_function(this);\n",
       "\n",
       "    this.ondownload = ondownload;\n",
       "};\n",
       "\n",
       "mpl.figure.prototype._init_header = function () {\n",
       "    var titlebar = document.createElement('div');\n",
       "    titlebar.classList =\n",
       "        'ui-dialog-titlebar ui-widget-header ui-corner-all ui-helper-clearfix';\n",
       "    var titletext = document.createElement('div');\n",
       "    titletext.classList = 'ui-dialog-title';\n",
       "    titletext.setAttribute(\n",
       "        'style',\n",
       "        'width: 100%; text-align: center; padding: 3px;'\n",
       "    );\n",
       "    titlebar.appendChild(titletext);\n",
       "    this.root.appendChild(titlebar);\n",
       "    this.header = titletext;\n",
       "};\n",
       "\n",
       "mpl.figure.prototype._canvas_extra_style = function (_canvas_div) {};\n",
       "\n",
       "mpl.figure.prototype._root_extra_style = function (_canvas_div) {};\n",
       "\n",
       "mpl.figure.prototype._init_canvas = function () {\n",
       "    var fig = this;\n",
       "\n",
       "    var canvas_div = (this.canvas_div = document.createElement('div'));\n",
       "    canvas_div.setAttribute(\n",
       "        'style',\n",
       "        'border: 1px solid #ddd;' +\n",
       "            'box-sizing: content-box;' +\n",
       "            'clear: both;' +\n",
       "            'min-height: 1px;' +\n",
       "            'min-width: 1px;' +\n",
       "            'outline: 0;' +\n",
       "            'overflow: hidden;' +\n",
       "            'position: relative;' +\n",
       "            'resize: both;'\n",
       "    );\n",
       "\n",
       "    function on_keyboard_event_closure(name) {\n",
       "        return function (event) {\n",
       "            return fig.key_event(event, name);\n",
       "        };\n",
       "    }\n",
       "\n",
       "    canvas_div.addEventListener(\n",
       "        'keydown',\n",
       "        on_keyboard_event_closure('key_press')\n",
       "    );\n",
       "    canvas_div.addEventListener(\n",
       "        'keyup',\n",
       "        on_keyboard_event_closure('key_release')\n",
       "    );\n",
       "\n",
       "    this._canvas_extra_style(canvas_div);\n",
       "    this.root.appendChild(canvas_div);\n",
       "\n",
       "    var canvas = (this.canvas = document.createElement('canvas'));\n",
       "    canvas.classList.add('mpl-canvas');\n",
       "    canvas.setAttribute('style', 'box-sizing: content-box;');\n",
       "\n",
       "    this.context = canvas.getContext('2d');\n",
       "\n",
       "    var backingStore =\n",
       "        this.context.backingStorePixelRatio ||\n",
       "        this.context.webkitBackingStorePixelRatio ||\n",
       "        this.context.mozBackingStorePixelRatio ||\n",
       "        this.context.msBackingStorePixelRatio ||\n",
       "        this.context.oBackingStorePixelRatio ||\n",
       "        this.context.backingStorePixelRatio ||\n",
       "        1;\n",
       "\n",
       "    this.ratio = (window.devicePixelRatio || 1) / backingStore;\n",
       "    if (this.ratio !== 1) {\n",
       "        fig.send_message('set_dpi_ratio', { dpi_ratio: this.ratio });\n",
       "    }\n",
       "\n",
       "    var rubberband_canvas = (this.rubberband_canvas = document.createElement(\n",
       "        'canvas'\n",
       "    ));\n",
       "    rubberband_canvas.setAttribute(\n",
       "        'style',\n",
       "        'box-sizing: content-box; position: absolute; left: 0; top: 0; z-index: 1;'\n",
       "    );\n",
       "\n",
       "    var resizeObserver = new ResizeObserver(function (entries) {\n",
       "        var nentries = entries.length;\n",
       "        for (var i = 0; i < nentries; i++) {\n",
       "            var entry = entries[i];\n",
       "            var width, height;\n",
       "            if (entry.contentBoxSize) {\n",
       "                if (entry.contentBoxSize instanceof Array) {\n",
       "                    // Chrome 84 implements new version of spec.\n",
       "                    width = entry.contentBoxSize[0].inlineSize;\n",
       "                    height = entry.contentBoxSize[0].blockSize;\n",
       "                } else {\n",
       "                    // Firefox implements old version of spec.\n",
       "                    width = entry.contentBoxSize.inlineSize;\n",
       "                    height = entry.contentBoxSize.blockSize;\n",
       "                }\n",
       "            } else {\n",
       "                // Chrome <84 implements even older version of spec.\n",
       "                width = entry.contentRect.width;\n",
       "                height = entry.contentRect.height;\n",
       "            }\n",
       "\n",
       "            // Keep the size of the canvas and rubber band canvas in sync with\n",
       "            // the canvas container.\n",
       "            if (entry.devicePixelContentBoxSize) {\n",
       "                // Chrome 84 implements new version of spec.\n",
       "                canvas.setAttribute(\n",
       "                    'width',\n",
       "                    entry.devicePixelContentBoxSize[0].inlineSize\n",
       "                );\n",
       "                canvas.setAttribute(\n",
       "                    'height',\n",
       "                    entry.devicePixelContentBoxSize[0].blockSize\n",
       "                );\n",
       "            } else {\n",
       "                canvas.setAttribute('width', width * fig.ratio);\n",
       "                canvas.setAttribute('height', height * fig.ratio);\n",
       "            }\n",
       "            canvas.setAttribute(\n",
       "                'style',\n",
       "                'width: ' + width + 'px; height: ' + height + 'px;'\n",
       "            );\n",
       "\n",
       "            rubberband_canvas.setAttribute('width', width);\n",
       "            rubberband_canvas.setAttribute('height', height);\n",
       "\n",
       "            // And update the size in Python. We ignore the initial 0/0 size\n",
       "            // that occurs as the element is placed into the DOM, which should\n",
       "            // otherwise not happen due to the minimum size styling.\n",
       "            if (width != 0 && height != 0) {\n",
       "                fig.request_resize(width, height);\n",
       "            }\n",
       "        }\n",
       "    });\n",
       "    resizeObserver.observe(canvas_div);\n",
       "\n",
       "    function on_mouse_event_closure(name) {\n",
       "        return function (event) {\n",
       "            return fig.mouse_event(event, name);\n",
       "        };\n",
       "    }\n",
       "\n",
       "    rubberband_canvas.addEventListener(\n",
       "        'mousedown',\n",
       "        on_mouse_event_closure('button_press')\n",
       "    );\n",
       "    rubberband_canvas.addEventListener(\n",
       "        'mouseup',\n",
       "        on_mouse_event_closure('button_release')\n",
       "    );\n",
       "    // Throttle sequential mouse events to 1 every 20ms.\n",
       "    rubberband_canvas.addEventListener(\n",
       "        'mousemove',\n",
       "        on_mouse_event_closure('motion_notify')\n",
       "    );\n",
       "\n",
       "    rubberband_canvas.addEventListener(\n",
       "        'mouseenter',\n",
       "        on_mouse_event_closure('figure_enter')\n",
       "    );\n",
       "    rubberband_canvas.addEventListener(\n",
       "        'mouseleave',\n",
       "        on_mouse_event_closure('figure_leave')\n",
       "    );\n",
       "\n",
       "    canvas_div.addEventListener('wheel', function (event) {\n",
       "        if (event.deltaY < 0) {\n",
       "            event.step = 1;\n",
       "        } else {\n",
       "            event.step = -1;\n",
       "        }\n",
       "        on_mouse_event_closure('scroll')(event);\n",
       "    });\n",
       "\n",
       "    canvas_div.appendChild(canvas);\n",
       "    canvas_div.appendChild(rubberband_canvas);\n",
       "\n",
       "    this.rubberband_context = rubberband_canvas.getContext('2d');\n",
       "    this.rubberband_context.strokeStyle = '#000000';\n",
       "\n",
       "    this._resize_canvas = function (width, height, forward) {\n",
       "        if (forward) {\n",
       "            canvas_div.style.width = width + 'px';\n",
       "            canvas_div.style.height = height + 'px';\n",
       "        }\n",
       "    };\n",
       "\n",
       "    // Disable right mouse context menu.\n",
       "    this.rubberband_canvas.addEventListener('contextmenu', function (_e) {\n",
       "        event.preventDefault();\n",
       "        return false;\n",
       "    });\n",
       "\n",
       "    function set_focus() {\n",
       "        canvas.focus();\n",
       "        canvas_div.focus();\n",
       "    }\n",
       "\n",
       "    window.setTimeout(set_focus, 100);\n",
       "};\n",
       "\n",
       "mpl.figure.prototype._init_toolbar = function () {\n",
       "    var fig = this;\n",
       "\n",
       "    var toolbar = document.createElement('div');\n",
       "    toolbar.classList = 'mpl-toolbar';\n",
       "    this.root.appendChild(toolbar);\n",
       "\n",
       "    function on_click_closure(name) {\n",
       "        return function (_event) {\n",
       "            return fig.toolbar_button_onclick(name);\n",
       "        };\n",
       "    }\n",
       "\n",
       "    function on_mouseover_closure(tooltip) {\n",
       "        return function (event) {\n",
       "            if (!event.currentTarget.disabled) {\n",
       "                return fig.toolbar_button_onmouseover(tooltip);\n",
       "            }\n",
       "        };\n",
       "    }\n",
       "\n",
       "    fig.buttons = {};\n",
       "    var buttonGroup = document.createElement('div');\n",
       "    buttonGroup.classList = 'mpl-button-group';\n",
       "    for (var toolbar_ind in mpl.toolbar_items) {\n",
       "        var name = mpl.toolbar_items[toolbar_ind][0];\n",
       "        var tooltip = mpl.toolbar_items[toolbar_ind][1];\n",
       "        var image = mpl.toolbar_items[toolbar_ind][2];\n",
       "        var method_name = mpl.toolbar_items[toolbar_ind][3];\n",
       "\n",
       "        if (!name) {\n",
       "            /* Instead of a spacer, we start a new button group. */\n",
       "            if (buttonGroup.hasChildNodes()) {\n",
       "                toolbar.appendChild(buttonGroup);\n",
       "            }\n",
       "            buttonGroup = document.createElement('div');\n",
       "            buttonGroup.classList = 'mpl-button-group';\n",
       "            continue;\n",
       "        }\n",
       "\n",
       "        var button = (fig.buttons[name] = document.createElement('button'));\n",
       "        button.classList = 'mpl-widget';\n",
       "        button.setAttribute('role', 'button');\n",
       "        button.setAttribute('aria-disabled', 'false');\n",
       "        button.addEventListener('click', on_click_closure(method_name));\n",
       "        button.addEventListener('mouseover', on_mouseover_closure(tooltip));\n",
       "\n",
       "        var icon_img = document.createElement('img');\n",
       "        icon_img.src = '_images/' + image + '.png';\n",
       "        icon_img.srcset = '_images/' + image + '_large.png 2x';\n",
       "        icon_img.alt = tooltip;\n",
       "        button.appendChild(icon_img);\n",
       "\n",
       "        buttonGroup.appendChild(button);\n",
       "    }\n",
       "\n",
       "    if (buttonGroup.hasChildNodes()) {\n",
       "        toolbar.appendChild(buttonGroup);\n",
       "    }\n",
       "\n",
       "    var fmt_picker = document.createElement('select');\n",
       "    fmt_picker.classList = 'mpl-widget';\n",
       "    toolbar.appendChild(fmt_picker);\n",
       "    this.format_dropdown = fmt_picker;\n",
       "\n",
       "    for (var ind in mpl.extensions) {\n",
       "        var fmt = mpl.extensions[ind];\n",
       "        var option = document.createElement('option');\n",
       "        option.selected = fmt === mpl.default_extension;\n",
       "        option.innerHTML = fmt;\n",
       "        fmt_picker.appendChild(option);\n",
       "    }\n",
       "\n",
       "    var status_bar = document.createElement('span');\n",
       "    status_bar.classList = 'mpl-message';\n",
       "    toolbar.appendChild(status_bar);\n",
       "    this.message = status_bar;\n",
       "};\n",
       "\n",
       "mpl.figure.prototype.request_resize = function (x_pixels, y_pixels) {\n",
       "    // Request matplotlib to resize the figure. Matplotlib will then trigger a resize in the client,\n",
       "    // which will in turn request a refresh of the image.\n",
       "    this.send_message('resize', { width: x_pixels, height: y_pixels });\n",
       "};\n",
       "\n",
       "mpl.figure.prototype.send_message = function (type, properties) {\n",
       "    properties['type'] = type;\n",
       "    properties['figure_id'] = this.id;\n",
       "    this.ws.send(JSON.stringify(properties));\n",
       "};\n",
       "\n",
       "mpl.figure.prototype.send_draw_message = function () {\n",
       "    if (!this.waiting) {\n",
       "        this.waiting = true;\n",
       "        this.ws.send(JSON.stringify({ type: 'draw', figure_id: this.id }));\n",
       "    }\n",
       "};\n",
       "\n",
       "mpl.figure.prototype.handle_save = function (fig, _msg) {\n",
       "    var format_dropdown = fig.format_dropdown;\n",
       "    var format = format_dropdown.options[format_dropdown.selectedIndex].value;\n",
       "    fig.ondownload(fig, format);\n",
       "};\n",
       "\n",
       "mpl.figure.prototype.handle_resize = function (fig, msg) {\n",
       "    var size = msg['size'];\n",
       "    if (size[0] !== fig.canvas.width || size[1] !== fig.canvas.height) {\n",
       "        fig._resize_canvas(size[0], size[1], msg['forward']);\n",
       "        fig.send_message('refresh', {});\n",
       "    }\n",
       "};\n",
       "\n",
       "mpl.figure.prototype.handle_rubberband = function (fig, msg) {\n",
       "    var x0 = msg['x0'] / fig.ratio;\n",
       "    var y0 = (fig.canvas.height - msg['y0']) / fig.ratio;\n",
       "    var x1 = msg['x1'] / fig.ratio;\n",
       "    var y1 = (fig.canvas.height - msg['y1']) / fig.ratio;\n",
       "    x0 = Math.floor(x0) + 0.5;\n",
       "    y0 = Math.floor(y0) + 0.5;\n",
       "    x1 = Math.floor(x1) + 0.5;\n",
       "    y1 = Math.floor(y1) + 0.5;\n",
       "    var min_x = Math.min(x0, x1);\n",
       "    var min_y = Math.min(y0, y1);\n",
       "    var width = Math.abs(x1 - x0);\n",
       "    var height = Math.abs(y1 - y0);\n",
       "\n",
       "    fig.rubberband_context.clearRect(\n",
       "        0,\n",
       "        0,\n",
       "        fig.canvas.width / fig.ratio,\n",
       "        fig.canvas.height / fig.ratio\n",
       "    );\n",
       "\n",
       "    fig.rubberband_context.strokeRect(min_x, min_y, width, height);\n",
       "};\n",
       "\n",
       "mpl.figure.prototype.handle_figure_label = function (fig, msg) {\n",
       "    // Updates the figure title.\n",
       "    fig.header.textContent = msg['label'];\n",
       "};\n",
       "\n",
       "mpl.figure.prototype.handle_cursor = function (fig, msg) {\n",
       "    var cursor = msg['cursor'];\n",
       "    switch (cursor) {\n",
       "        case 0:\n",
       "            cursor = 'pointer';\n",
       "            break;\n",
       "        case 1:\n",
       "            cursor = 'default';\n",
       "            break;\n",
       "        case 2:\n",
       "            cursor = 'crosshair';\n",
       "            break;\n",
       "        case 3:\n",
       "            cursor = 'move';\n",
       "            break;\n",
       "    }\n",
       "    fig.rubberband_canvas.style.cursor = cursor;\n",
       "};\n",
       "\n",
       "mpl.figure.prototype.handle_message = function (fig, msg) {\n",
       "    fig.message.textContent = msg['message'];\n",
       "};\n",
       "\n",
       "mpl.figure.prototype.handle_draw = function (fig, _msg) {\n",
       "    // Request the server to send over a new figure.\n",
       "    fig.send_draw_message();\n",
       "};\n",
       "\n",
       "mpl.figure.prototype.handle_image_mode = function (fig, msg) {\n",
       "    fig.image_mode = msg['mode'];\n",
       "};\n",
       "\n",
       "mpl.figure.prototype.handle_history_buttons = function (fig, msg) {\n",
       "    for (var key in msg) {\n",
       "        if (!(key in fig.buttons)) {\n",
       "            continue;\n",
       "        }\n",
       "        fig.buttons[key].disabled = !msg[key];\n",
       "        fig.buttons[key].setAttribute('aria-disabled', !msg[key]);\n",
       "    }\n",
       "};\n",
       "\n",
       "mpl.figure.prototype.handle_navigate_mode = function (fig, msg) {\n",
       "    if (msg['mode'] === 'PAN') {\n",
       "        fig.buttons['Pan'].classList.add('active');\n",
       "        fig.buttons['Zoom'].classList.remove('active');\n",
       "    } else if (msg['mode'] === 'ZOOM') {\n",
       "        fig.buttons['Pan'].classList.remove('active');\n",
       "        fig.buttons['Zoom'].classList.add('active');\n",
       "    } else {\n",
       "        fig.buttons['Pan'].classList.remove('active');\n",
       "        fig.buttons['Zoom'].classList.remove('active');\n",
       "    }\n",
       "};\n",
       "\n",
       "mpl.figure.prototype.updated_canvas_event = function () {\n",
       "    // Called whenever the canvas gets updated.\n",
       "    this.send_message('ack', {});\n",
       "};\n",
       "\n",
       "// A function to construct a web socket function for onmessage handling.\n",
       "// Called in the figure constructor.\n",
       "mpl.figure.prototype._make_on_message_function = function (fig) {\n",
       "    return function socket_on_message(evt) {\n",
       "        if (evt.data instanceof Blob) {\n",
       "            /* FIXME: We get \"Resource interpreted as Image but\n",
       "             * transferred with MIME type text/plain:\" errors on\n",
       "             * Chrome.  But how to set the MIME type?  It doesn't seem\n",
       "             * to be part of the websocket stream */\n",
       "            evt.data.type = 'image/png';\n",
       "\n",
       "            /* Free the memory for the previous frames */\n",
       "            if (fig.imageObj.src) {\n",
       "                (window.URL || window.webkitURL).revokeObjectURL(\n",
       "                    fig.imageObj.src\n",
       "                );\n",
       "            }\n",
       "\n",
       "            fig.imageObj.src = (window.URL || window.webkitURL).createObjectURL(\n",
       "                evt.data\n",
       "            );\n",
       "            fig.updated_canvas_event();\n",
       "            fig.waiting = false;\n",
       "            return;\n",
       "        } else if (\n",
       "            typeof evt.data === 'string' &&\n",
       "            evt.data.slice(0, 21) === 'data:image/png;base64'\n",
       "        ) {\n",
       "            fig.imageObj.src = evt.data;\n",
       "            fig.updated_canvas_event();\n",
       "            fig.waiting = false;\n",
       "            return;\n",
       "        }\n",
       "\n",
       "        var msg = JSON.parse(evt.data);\n",
       "        var msg_type = msg['type'];\n",
       "\n",
       "        // Call the  \"handle_{type}\" callback, which takes\n",
       "        // the figure and JSON message as its only arguments.\n",
       "        try {\n",
       "            var callback = fig['handle_' + msg_type];\n",
       "        } catch (e) {\n",
       "            console.log(\n",
       "                \"No handler for the '\" + msg_type + \"' message type: \",\n",
       "                msg\n",
       "            );\n",
       "            return;\n",
       "        }\n",
       "\n",
       "        if (callback) {\n",
       "            try {\n",
       "                // console.log(\"Handling '\" + msg_type + \"' message: \", msg);\n",
       "                callback(fig, msg);\n",
       "            } catch (e) {\n",
       "                console.log(\n",
       "                    \"Exception inside the 'handler_\" + msg_type + \"' callback:\",\n",
       "                    e,\n",
       "                    e.stack,\n",
       "                    msg\n",
       "                );\n",
       "            }\n",
       "        }\n",
       "    };\n",
       "};\n",
       "\n",
       "// from http://stackoverflow.com/questions/1114465/getting-mouse-location-in-canvas\n",
       "mpl.findpos = function (e) {\n",
       "    //this section is from http://www.quirksmode.org/js/events_properties.html\n",
       "    var targ;\n",
       "    if (!e) {\n",
       "        e = window.event;\n",
       "    }\n",
       "    if (e.target) {\n",
       "        targ = e.target;\n",
       "    } else if (e.srcElement) {\n",
       "        targ = e.srcElement;\n",
       "    }\n",
       "    if (targ.nodeType === 3) {\n",
       "        // defeat Safari bug\n",
       "        targ = targ.parentNode;\n",
       "    }\n",
       "\n",
       "    // pageX,Y are the mouse positions relative to the document\n",
       "    var boundingRect = targ.getBoundingClientRect();\n",
       "    var x = e.pageX - (boundingRect.left + document.body.scrollLeft);\n",
       "    var y = e.pageY - (boundingRect.top + document.body.scrollTop);\n",
       "\n",
       "    return { x: x, y: y };\n",
       "};\n",
       "\n",
       "/*\n",
       " * return a copy of an object with only non-object keys\n",
       " * we need this to avoid circular references\n",
       " * http://stackoverflow.com/a/24161582/3208463\n",
       " */\n",
       "function simpleKeys(original) {\n",
       "    return Object.keys(original).reduce(function (obj, key) {\n",
       "        if (typeof original[key] !== 'object') {\n",
       "            obj[key] = original[key];\n",
       "        }\n",
       "        return obj;\n",
       "    }, {});\n",
       "}\n",
       "\n",
       "mpl.figure.prototype.mouse_event = function (event, name) {\n",
       "    var canvas_pos = mpl.findpos(event);\n",
       "\n",
       "    if (name === 'button_press') {\n",
       "        this.canvas.focus();\n",
       "        this.canvas_div.focus();\n",
       "    }\n",
       "\n",
       "    var x = canvas_pos.x * this.ratio;\n",
       "    var y = canvas_pos.y * this.ratio;\n",
       "\n",
       "    this.send_message(name, {\n",
       "        x: x,\n",
       "        y: y,\n",
       "        button: event.button,\n",
       "        step: event.step,\n",
       "        guiEvent: simpleKeys(event),\n",
       "    });\n",
       "\n",
       "    /* This prevents the web browser from automatically changing to\n",
       "     * the text insertion cursor when the button is pressed.  We want\n",
       "     * to control all of the cursor setting manually through the\n",
       "     * 'cursor' event from matplotlib */\n",
       "    event.preventDefault();\n",
       "    return false;\n",
       "};\n",
       "\n",
       "mpl.figure.prototype._key_event_extra = function (_event, _name) {\n",
       "    // Handle any extra behaviour associated with a key event\n",
       "};\n",
       "\n",
       "mpl.figure.prototype.key_event = function (event, name) {\n",
       "    // Prevent repeat events\n",
       "    if (name === 'key_press') {\n",
       "        if (event.which === this._key) {\n",
       "            return;\n",
       "        } else {\n",
       "            this._key = event.which;\n",
       "        }\n",
       "    }\n",
       "    if (name === 'key_release') {\n",
       "        this._key = null;\n",
       "    }\n",
       "\n",
       "    var value = '';\n",
       "    if (event.ctrlKey && event.which !== 17) {\n",
       "        value += 'ctrl+';\n",
       "    }\n",
       "    if (event.altKey && event.which !== 18) {\n",
       "        value += 'alt+';\n",
       "    }\n",
       "    if (event.shiftKey && event.which !== 16) {\n",
       "        value += 'shift+';\n",
       "    }\n",
       "\n",
       "    value += 'k';\n",
       "    value += event.which.toString();\n",
       "\n",
       "    this._key_event_extra(event, name);\n",
       "\n",
       "    this.send_message(name, { key: value, guiEvent: simpleKeys(event) });\n",
       "    return false;\n",
       "};\n",
       "\n",
       "mpl.figure.prototype.toolbar_button_onclick = function (name) {\n",
       "    if (name === 'download') {\n",
       "        this.handle_save(this, null);\n",
       "    } else {\n",
       "        this.send_message('toolbar_button', { name: name });\n",
       "    }\n",
       "};\n",
       "\n",
       "mpl.figure.prototype.toolbar_button_onmouseover = function (tooltip) {\n",
       "    this.message.textContent = tooltip;\n",
       "};\n",
       "mpl.toolbar_items = [[\"Home\", \"Reset original view\", \"fa fa-home icon-home\", \"home\"], [\"Back\", \"Back to previous view\", \"fa fa-arrow-left icon-arrow-left\", \"back\"], [\"Forward\", \"Forward to next view\", \"fa fa-arrow-right icon-arrow-right\", \"forward\"], [\"\", \"\", \"\", \"\"], [\"Pan\", \"Left button pans, Right button zooms\\nx/y fixes axis, CTRL fixes aspect\", \"fa fa-arrows icon-move\", \"pan\"], [\"Zoom\", \"Zoom to rectangle\\nx/y fixes axis, CTRL fixes aspect\", \"fa fa-square-o icon-check-empty\", \"zoom\"], [\"\", \"\", \"\", \"\"], [\"Download\", \"Download plot\", \"fa fa-floppy-o icon-save\", \"download\"]];\n",
       "\n",
       "mpl.extensions = [\"eps\", \"jpeg\", \"pdf\", \"png\", \"ps\", \"raw\", \"svg\", \"tif\"];\n",
       "\n",
       "mpl.default_extension = \"png\";/* global mpl */\n",
       "\n",
       "var comm_websocket_adapter = function (comm) {\n",
       "    // Create a \"websocket\"-like object which calls the given IPython comm\n",
       "    // object with the appropriate methods. Currently this is a non binary\n",
       "    // socket, so there is still some room for performance tuning.\n",
       "    var ws = {};\n",
       "\n",
       "    ws.close = function () {\n",
       "        comm.close();\n",
       "    };\n",
       "    ws.send = function (m) {\n",
       "        //console.log('sending', m);\n",
       "        comm.send(m);\n",
       "    };\n",
       "    // Register the callback with on_msg.\n",
       "    comm.on_msg(function (msg) {\n",
       "        //console.log('receiving', msg['content']['data'], msg);\n",
       "        // Pass the mpl event to the overridden (by mpl) onmessage function.\n",
       "        ws.onmessage(msg['content']['data']);\n",
       "    });\n",
       "    return ws;\n",
       "};\n",
       "\n",
       "mpl.mpl_figure_comm = function (comm, msg) {\n",
       "    // This is the function which gets called when the mpl process\n",
       "    // starts-up an IPython Comm through the \"matplotlib\" channel.\n",
       "\n",
       "    var id = msg.content.data.id;\n",
       "    // Get hold of the div created by the display call when the Comm\n",
       "    // socket was opened in Python.\n",
       "    var element = document.getElementById(id);\n",
       "    var ws_proxy = comm_websocket_adapter(comm);\n",
       "\n",
       "    function ondownload(figure, _format) {\n",
       "        window.open(figure.canvas.toDataURL());\n",
       "    }\n",
       "\n",
       "    var fig = new mpl.figure(id, ws_proxy, ondownload, element);\n",
       "\n",
       "    // Call onopen now - mpl needs it, as it is assuming we've passed it a real\n",
       "    // web socket which is closed, not our websocket->open comm proxy.\n",
       "    ws_proxy.onopen();\n",
       "\n",
       "    fig.parent_element = element;\n",
       "    fig.cell_info = mpl.find_output_cell(\"<div id='\" + id + \"'></div>\");\n",
       "    if (!fig.cell_info) {\n",
       "        console.error('Failed to find cell for figure', id, fig);\n",
       "        return;\n",
       "    }\n",
       "    fig.cell_info[0].output_area.element.one(\n",
       "        'cleared',\n",
       "        { fig: fig },\n",
       "        fig._remove_fig_handler\n",
       "    );\n",
       "};\n",
       "\n",
       "mpl.figure.prototype.handle_close = function (fig, msg) {\n",
       "    var width = fig.canvas.width / fig.ratio;\n",
       "    fig.cell_info[0].output_area.element.off(\n",
       "        'cleared',\n",
       "        fig._remove_fig_handler\n",
       "    );\n",
       "\n",
       "    // Update the output cell to use the data from the current canvas.\n",
       "    fig.push_to_output();\n",
       "    var dataURL = fig.canvas.toDataURL();\n",
       "    // Re-enable the keyboard manager in IPython - without this line, in FF,\n",
       "    // the notebook keyboard shortcuts fail.\n",
       "    IPython.keyboard_manager.enable();\n",
       "    fig.parent_element.innerHTML =\n",
       "        '<img src=\"' + dataURL + '\" width=\"' + width + '\">';\n",
       "    fig.close_ws(fig, msg);\n",
       "};\n",
       "\n",
       "mpl.figure.prototype.close_ws = function (fig, msg) {\n",
       "    fig.send_message('closing', msg);\n",
       "    // fig.ws.close()\n",
       "};\n",
       "\n",
       "mpl.figure.prototype.push_to_output = function (_remove_interactive) {\n",
       "    // Turn the data on the canvas into data in the output cell.\n",
       "    var width = this.canvas.width / this.ratio;\n",
       "    var dataURL = this.canvas.toDataURL();\n",
       "    this.cell_info[1]['text/html'] =\n",
       "        '<img src=\"' + dataURL + '\" width=\"' + width + '\">';\n",
       "};\n",
       "\n",
       "mpl.figure.prototype.updated_canvas_event = function () {\n",
       "    // Tell IPython that the notebook contents must change.\n",
       "    IPython.notebook.set_dirty(true);\n",
       "    this.send_message('ack', {});\n",
       "    var fig = this;\n",
       "    // Wait a second, then push the new image to the DOM so\n",
       "    // that it is saved nicely (might be nice to debounce this).\n",
       "    setTimeout(function () {\n",
       "        fig.push_to_output();\n",
       "    }, 1000);\n",
       "};\n",
       "\n",
       "mpl.figure.prototype._init_toolbar = function () {\n",
       "    var fig = this;\n",
       "\n",
       "    var toolbar = document.createElement('div');\n",
       "    toolbar.classList = 'btn-toolbar';\n",
       "    this.root.appendChild(toolbar);\n",
       "\n",
       "    function on_click_closure(name) {\n",
       "        return function (_event) {\n",
       "            return fig.toolbar_button_onclick(name);\n",
       "        };\n",
       "    }\n",
       "\n",
       "    function on_mouseover_closure(tooltip) {\n",
       "        return function (event) {\n",
       "            if (!event.currentTarget.disabled) {\n",
       "                return fig.toolbar_button_onmouseover(tooltip);\n",
       "            }\n",
       "        };\n",
       "    }\n",
       "\n",
       "    fig.buttons = {};\n",
       "    var buttonGroup = document.createElement('div');\n",
       "    buttonGroup.classList = 'btn-group';\n",
       "    var button;\n",
       "    for (var toolbar_ind in mpl.toolbar_items) {\n",
       "        var name = mpl.toolbar_items[toolbar_ind][0];\n",
       "        var tooltip = mpl.toolbar_items[toolbar_ind][1];\n",
       "        var image = mpl.toolbar_items[toolbar_ind][2];\n",
       "        var method_name = mpl.toolbar_items[toolbar_ind][3];\n",
       "\n",
       "        if (!name) {\n",
       "            /* Instead of a spacer, we start a new button group. */\n",
       "            if (buttonGroup.hasChildNodes()) {\n",
       "                toolbar.appendChild(buttonGroup);\n",
       "            }\n",
       "            buttonGroup = document.createElement('div');\n",
       "            buttonGroup.classList = 'btn-group';\n",
       "            continue;\n",
       "        }\n",
       "\n",
       "        button = fig.buttons[name] = document.createElement('button');\n",
       "        button.classList = 'btn btn-default';\n",
       "        button.href = '#';\n",
       "        button.title = name;\n",
       "        button.innerHTML = '<i class=\"fa ' + image + ' fa-lg\"></i>';\n",
       "        button.addEventListener('click', on_click_closure(method_name));\n",
       "        button.addEventListener('mouseover', on_mouseover_closure(tooltip));\n",
       "        buttonGroup.appendChild(button);\n",
       "    }\n",
       "\n",
       "    if (buttonGroup.hasChildNodes()) {\n",
       "        toolbar.appendChild(buttonGroup);\n",
       "    }\n",
       "\n",
       "    // Add the status bar.\n",
       "    var status_bar = document.createElement('span');\n",
       "    status_bar.classList = 'mpl-message pull-right';\n",
       "    toolbar.appendChild(status_bar);\n",
       "    this.message = status_bar;\n",
       "\n",
       "    // Add the close button to the window.\n",
       "    var buttongrp = document.createElement('div');\n",
       "    buttongrp.classList = 'btn-group inline pull-right';\n",
       "    button = document.createElement('button');\n",
       "    button.classList = 'btn btn-mini btn-primary';\n",
       "    button.href = '#';\n",
       "    button.title = 'Stop Interaction';\n",
       "    button.innerHTML = '<i class=\"fa fa-power-off icon-remove icon-large\"></i>';\n",
       "    button.addEventListener('click', function (_evt) {\n",
       "        fig.handle_close(fig, {});\n",
       "    });\n",
       "    button.addEventListener(\n",
       "        'mouseover',\n",
       "        on_mouseover_closure('Stop Interaction')\n",
       "    );\n",
       "    buttongrp.appendChild(button);\n",
       "    var titlebar = this.root.querySelector('.ui-dialog-titlebar');\n",
       "    titlebar.insertBefore(buttongrp, titlebar.firstChild);\n",
       "};\n",
       "\n",
       "mpl.figure.prototype._remove_fig_handler = function (event) {\n",
       "    var fig = event.data.fig;\n",
       "    fig.close_ws(fig, {});\n",
       "};\n",
       "\n",
       "mpl.figure.prototype._root_extra_style = function (el) {\n",
       "    el.style.boxSizing = 'content-box'; // override notebook setting of border-box.\n",
       "};\n",
       "\n",
       "mpl.figure.prototype._canvas_extra_style = function (el) {\n",
       "    // this is important to make the div 'focusable\n",
       "    el.setAttribute('tabindex', 0);\n",
       "    // reach out to IPython and tell the keyboard manager to turn it's self\n",
       "    // off when our div gets focus\n",
       "\n",
       "    // location in version 3\n",
       "    if (IPython.notebook.keyboard_manager) {\n",
       "        IPython.notebook.keyboard_manager.register_events(el);\n",
       "    } else {\n",
       "        // location in version 2\n",
       "        IPython.keyboard_manager.register_events(el);\n",
       "    }\n",
       "};\n",
       "\n",
       "mpl.figure.prototype._key_event_extra = function (event, _name) {\n",
       "    var manager = IPython.notebook.keyboard_manager;\n",
       "    if (!manager) {\n",
       "        manager = IPython.keyboard_manager;\n",
       "    }\n",
       "\n",
       "    // Check for shift+enter\n",
       "    if (event.shiftKey && event.which === 13) {\n",
       "        this.canvas_div.blur();\n",
       "        // select the cell after this one\n",
       "        var index = IPython.notebook.find_cell_index(this.cell_info[0]);\n",
       "        IPython.notebook.select(index + 1);\n",
       "    }\n",
       "};\n",
       "\n",
       "mpl.figure.prototype.handle_save = function (fig, _msg) {\n",
       "    fig.ondownload(fig, null);\n",
       "};\n",
       "\n",
       "mpl.find_output_cell = function (html_output) {\n",
       "    // Return the cell and output element which can be found *uniquely* in the notebook.\n",
       "    // Note - this is a bit hacky, but it is done because the \"notebook_saving.Notebook\"\n",
       "    // IPython event is triggered only after the cells have been serialised, which for\n",
       "    // our purposes (turning an active figure into a static one), is too late.\n",
       "    var cells = IPython.notebook.get_cells();\n",
       "    var ncells = cells.length;\n",
       "    for (var i = 0; i < ncells; i++) {\n",
       "        var cell = cells[i];\n",
       "        if (cell.cell_type === 'code') {\n",
       "            for (var j = 0; j < cell.output_area.outputs.length; j++) {\n",
       "                var data = cell.output_area.outputs[j];\n",
       "                if (data.data) {\n",
       "                    // IPython >= 3 moved mimebundle to data attribute of output\n",
       "                    data = data.data;\n",
       "                }\n",
       "                if (data['text/html'] === html_output) {\n",
       "                    return [cell, data, j];\n",
       "                }\n",
       "            }\n",
       "        }\n",
       "    }\n",
       "};\n",
       "\n",
       "// Register the function which deals with the matplotlib target/channel.\n",
       "// The kernel may be null if the page has been refreshed.\n",
       "if (IPython.notebook.kernel !== null) {\n",
       "    IPython.notebook.kernel.comm_manager.register_target(\n",
       "        'matplotlib',\n",
       "        mpl.mpl_figure_comm\n",
       "    );\n",
       "}\n"
      ],
      "text/plain": [
       "<IPython.core.display.Javascript object>"
      ]
     },
     "metadata": {},
     "output_type": "display_data"
    },
    {
     "data": {
      "text/html": [
       "<img src=\"data:,\" width=\"0\">"
      ],
      "text/plain": [
       "<IPython.core.display.HTML object>"
      ]
     },
     "metadata": {},
     "output_type": "display_data"
    },
    {
     "name": "stderr",
     "output_type": "stream",
     "text": [
      "C:\\Users\\jieconlin3\\Anaconda3\\envs\\motif_synthesis_py37\\lib\\site-packages\\seaborn\\_decorators.py:43: FutureWarning: Pass the following variables as keyword args: x, y. From version 0.12, the only valid positional argument will be `data`, and passing other arguments without an explicit keyword will result in an error or misinterpretation.\n",
      "  FutureWarning\n"
     ]
    }
   ],
   "source": [
    "sns.set_style('darkgrid')\n",
    "# sns.set_palette(\"RdBu\")\n",
    "plt.figure(figsize = (12, 5))\n",
    "bar = sns.barplot(np.arange(len(sorted_ELF1_dnase)), list(sorted_ELF1_dnase['DNase overlap fraction']), palette='GnBu_d')\n",
    "plt.xticks(np.arange(len(sorted_ELF1_dnase)), list(sorted_ELF1_dnase['motif_id']), rotation = 90)\n",
    "plt.ylim(0, 0.35)\n",
    "bar.axhline(0.1, color='red',  linestyle=\"-\")\n",
    "plt.xlabel('ELF1-related heterodimeric motifs')\n",
    "plt.ylabel('DNase Cluster Peaks Overlapping Fraction')\n",
    "plt.text(0, 0.085, 'Background', color = 'red',  weight='bold')\n",
    "plt.tight_layout()\n",
    "plt.savefig('ELF1related_DNase_result.pdf')"
   ]
  },
  {
   "cell_type": "code",
   "execution_count": null,
   "metadata": {},
   "outputs": [],
   "source": []
  },
  {
   "cell_type": "code",
   "execution_count": null,
   "metadata": {},
   "outputs": [],
   "source": []
  }
 ],
 "metadata": {
  "kernelspec": {
   "display_name": "Python 3",
   "language": "python",
   "name": "python3"
  },
  "language_info": {
   "codemirror_mode": {
    "name": "ipython",
    "version": 3
   },
   "file_extension": ".py",
   "mimetype": "text/x-python",
   "name": "python",
   "nbconvert_exporter": "python",
   "pygments_lexer": "ipython3",
   "version": "3.7.1"
  }
 },
 "nbformat": 4,
 "nbformat_minor": 4
}
